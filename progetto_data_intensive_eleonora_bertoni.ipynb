{
  "nbformat": 4,
  "nbformat_minor": 0,
  "metadata": {
    "colab": {
      "name": "progetto_data_intensive_eleonora_bertoni.ipynb",
      "provenance": [],
      "collapsed_sections": [],
      "toc_visible": true,
      "include_colab_link": true
    },
    "kernelspec": {
      "name": "python3",
      "display_name": "Python 3"
    },
    "language_info": {
      "name": "python"
    }
  },
  "cells": [
    {
      "cell_type": "markdown",
      "metadata": {
        "id": "view-in-github",
        "colab_type": "text"
      },
      "source": [
        "<a href=\"https://colab.research.google.com/github/eleonorabertoni/progetto_data_intensive/blob/main/progetto_data_intensive_eleonora_bertoni.ipynb\" target=\"_parent\"><img src=\"https://colab.research.google.com/assets/colab-badge.svg\" alt=\"Open In Colab\"/></a>"
      ]
    },
    {
      "cell_type": "markdown",
      "metadata": {
        "id": "JXqMeUEeHhF3"
      },
      "source": [
        "#Previsione su annullamento di una prenotazione\n",
        "\n"
      ]
    },
    {
      "cell_type": "markdown",
      "metadata": {
        "id": "pALm-F-9Qn7C"
      },
      "source": [
        "##Librerie"
      ]
    },
    {
      "cell_type": "code",
      "metadata": {
        "id": "ihwPCQJpLHqi"
      },
      "source": [
        "#librerie base e grafici\n",
        "%matplotlib inline\n",
        "import numpy as np\n",
        "import pandas as pd\n",
        "import matplotlib.pyplot as plt\n",
        "import sklearn\n",
        "import os.path\n",
        "import seaborn as sns\n",
        "from matplotlib import rcParams"
      ],
      "execution_count": 1,
      "outputs": []
    },
    {
      "cell_type": "code",
      "metadata": {
        "id": "ExI2d7kvDTuu"
      },
      "source": [
        "#scikit-learn\n",
        "from sklearn.model_selection import train_test_split\n",
        "from sklearn.model_selection import KFold, StratifiedKFold\n",
        "\n",
        "from sklearn.pipeline import Pipeline\n",
        "from sklearn.linear_model import Perceptron\n",
        "from sklearn.linear_model import LogisticRegression\n",
        "from sklearn.tree import DecisionTreeClassifier\n",
        "from sklearn.preprocessing import StandardScaler\n",
        "from xgboost import XGBClassifier\n",
        "from sklearn.svm import SVC\n",
        "from sklearn.dummy import DummyClassifier\n",
        "from sklearn.model_selection import GridSearchCV\n",
        "\n",
        "from sklearn.metrics import confusion_matrix\n",
        "from sklearn.metrics import precision_score, recall_score, f1_score, mean_squared_error\n",
        "from scipy import stats\n"
      ],
      "execution_count": 2,
      "outputs": []
    },
    {
      "cell_type": "markdown",
      "metadata": {
        "id": "AXQcbhgcE6pu"
      },
      "source": [
        "#Descrizione del problema\n",
        "Il dataset utilizzato contiene informazioni relative a prenotazioni fatte per un hotel di città e un resort hotel. Vogliamo trovare un modello che predica se un cliente annullerà una determinata prenotazione. Per un hotel questa informazione può risultare importante per organizzare al meglio cibi e vivande ma anche il personale. \n",
        "\n",
        "Il dataset è disponibile cliccando sul [link](\"https://www.kaggle.com/jessemostipak/hotel-booking-demand\")\n"
      ]
    },
    {
      "cell_type": "markdown",
      "metadata": {
        "id": "2x2yfuHiL8xf"
      },
      "source": [
        "##Download del dataset"
      ]
    },
    {
      "cell_type": "code",
      "metadata": {
        "id": "BV2Y0fF858Yt"
      },
      "source": [
        "file_csv_url = \"https://raw.githubusercontent.com/eleonorabertoni/progetto_data_intensive/main/hotel_bookings.csv\"\n",
        "\n",
        "booking_data_set = \"hotel_bookings.csv\"\n",
        "if not os.path.exists(booking_data_set):\n",
        "    from urllib.request import urlretrieve\n",
        "    urlretrieve(file_csv_url, booking_data_set)"
      ],
      "execution_count": 3,
      "outputs": []
    },
    {
      "cell_type": "code",
      "metadata": {
        "id": "4-DJYbLDMQwt"
      },
      "source": [
        "#partendo dal file csv salvo il dataset come dataframe \n",
        "with open(booking_data_set) as dataFile:\n",
        "    bookings = pd.read_csv(dataFile, sep=\",\")"
      ],
      "execution_count": 4,
      "outputs": []
    },
    {
      "cell_type": "code",
      "metadata": {
        "colab": {
          "base_uri": "https://localhost:8080/"
        },
        "id": "SwW9k1PXY3xz",
        "outputId": "f40bedb8-0b29-4309-daad-7eab189a157b"
      },
      "source": [
        "#numero di istanze in totale\n",
        "bookings.shape"
      ],
      "execution_count": 5,
      "outputs": [
        {
          "output_type": "execute_result",
          "data": {
            "text/plain": [
              "(119390, 32)"
            ]
          },
          "metadata": {
            "tags": []
          },
          "execution_count": 5
        }
      ]
    },
    {
      "cell_type": "code",
      "metadata": {
        "colab": {
          "base_uri": "https://localhost:8080/",
          "height": 312
        },
        "id": "0g5wWrwJP3QP",
        "outputId": "4d135105-a137-4eae-cdf3-6b6293a16992"
      },
      "source": [
        "#visualizzazione \n",
        "bookings.head()"
      ],
      "execution_count": 6,
      "outputs": [
        {
          "output_type": "execute_result",
          "data": {
            "text/html": [
              "<div>\n",
              "<style scoped>\n",
              "    .dataframe tbody tr th:only-of-type {\n",
              "        vertical-align: middle;\n",
              "    }\n",
              "\n",
              "    .dataframe tbody tr th {\n",
              "        vertical-align: top;\n",
              "    }\n",
              "\n",
              "    .dataframe thead th {\n",
              "        text-align: right;\n",
              "    }\n",
              "</style>\n",
              "<table border=\"1\" class=\"dataframe\">\n",
              "  <thead>\n",
              "    <tr style=\"text-align: right;\">\n",
              "      <th></th>\n",
              "      <th>hotel</th>\n",
              "      <th>is_canceled</th>\n",
              "      <th>lead_time</th>\n",
              "      <th>arrival_date_year</th>\n",
              "      <th>arrival_date_month</th>\n",
              "      <th>arrival_date_week_number</th>\n",
              "      <th>arrival_date_day_of_month</th>\n",
              "      <th>stays_in_weekend_nights</th>\n",
              "      <th>stays_in_week_nights</th>\n",
              "      <th>adults</th>\n",
              "      <th>children</th>\n",
              "      <th>babies</th>\n",
              "      <th>meal</th>\n",
              "      <th>country</th>\n",
              "      <th>market_segment</th>\n",
              "      <th>distribution_channel</th>\n",
              "      <th>is_repeated_guest</th>\n",
              "      <th>previous_cancellations</th>\n",
              "      <th>previous_bookings_not_canceled</th>\n",
              "      <th>reserved_room_type</th>\n",
              "      <th>assigned_room_type</th>\n",
              "      <th>booking_changes</th>\n",
              "      <th>deposit_type</th>\n",
              "      <th>agent</th>\n",
              "      <th>company</th>\n",
              "      <th>days_in_waiting_list</th>\n",
              "      <th>customer_type</th>\n",
              "      <th>adr</th>\n",
              "      <th>required_car_parking_spaces</th>\n",
              "      <th>total_of_special_requests</th>\n",
              "      <th>reservation_status</th>\n",
              "      <th>reservation_status_date</th>\n",
              "    </tr>\n",
              "  </thead>\n",
              "  <tbody>\n",
              "    <tr>\n",
              "      <th>0</th>\n",
              "      <td>Resort Hotel</td>\n",
              "      <td>0</td>\n",
              "      <td>342</td>\n",
              "      <td>2015</td>\n",
              "      <td>July</td>\n",
              "      <td>27</td>\n",
              "      <td>1</td>\n",
              "      <td>0</td>\n",
              "      <td>0</td>\n",
              "      <td>2</td>\n",
              "      <td>0.0</td>\n",
              "      <td>0</td>\n",
              "      <td>BB</td>\n",
              "      <td>PRT</td>\n",
              "      <td>Direct</td>\n",
              "      <td>Direct</td>\n",
              "      <td>0</td>\n",
              "      <td>0</td>\n",
              "      <td>0</td>\n",
              "      <td>C</td>\n",
              "      <td>C</td>\n",
              "      <td>3</td>\n",
              "      <td>No Deposit</td>\n",
              "      <td>NaN</td>\n",
              "      <td>NaN</td>\n",
              "      <td>0</td>\n",
              "      <td>Transient</td>\n",
              "      <td>0.0</td>\n",
              "      <td>0</td>\n",
              "      <td>0</td>\n",
              "      <td>Check-Out</td>\n",
              "      <td>2015-07-01</td>\n",
              "    </tr>\n",
              "    <tr>\n",
              "      <th>1</th>\n",
              "      <td>Resort Hotel</td>\n",
              "      <td>0</td>\n",
              "      <td>737</td>\n",
              "      <td>2015</td>\n",
              "      <td>July</td>\n",
              "      <td>27</td>\n",
              "      <td>1</td>\n",
              "      <td>0</td>\n",
              "      <td>0</td>\n",
              "      <td>2</td>\n",
              "      <td>0.0</td>\n",
              "      <td>0</td>\n",
              "      <td>BB</td>\n",
              "      <td>PRT</td>\n",
              "      <td>Direct</td>\n",
              "      <td>Direct</td>\n",
              "      <td>0</td>\n",
              "      <td>0</td>\n",
              "      <td>0</td>\n",
              "      <td>C</td>\n",
              "      <td>C</td>\n",
              "      <td>4</td>\n",
              "      <td>No Deposit</td>\n",
              "      <td>NaN</td>\n",
              "      <td>NaN</td>\n",
              "      <td>0</td>\n",
              "      <td>Transient</td>\n",
              "      <td>0.0</td>\n",
              "      <td>0</td>\n",
              "      <td>0</td>\n",
              "      <td>Check-Out</td>\n",
              "      <td>2015-07-01</td>\n",
              "    </tr>\n",
              "    <tr>\n",
              "      <th>2</th>\n",
              "      <td>Resort Hotel</td>\n",
              "      <td>0</td>\n",
              "      <td>7</td>\n",
              "      <td>2015</td>\n",
              "      <td>July</td>\n",
              "      <td>27</td>\n",
              "      <td>1</td>\n",
              "      <td>0</td>\n",
              "      <td>1</td>\n",
              "      <td>1</td>\n",
              "      <td>0.0</td>\n",
              "      <td>0</td>\n",
              "      <td>BB</td>\n",
              "      <td>GBR</td>\n",
              "      <td>Direct</td>\n",
              "      <td>Direct</td>\n",
              "      <td>0</td>\n",
              "      <td>0</td>\n",
              "      <td>0</td>\n",
              "      <td>A</td>\n",
              "      <td>C</td>\n",
              "      <td>0</td>\n",
              "      <td>No Deposit</td>\n",
              "      <td>NaN</td>\n",
              "      <td>NaN</td>\n",
              "      <td>0</td>\n",
              "      <td>Transient</td>\n",
              "      <td>75.0</td>\n",
              "      <td>0</td>\n",
              "      <td>0</td>\n",
              "      <td>Check-Out</td>\n",
              "      <td>2015-07-02</td>\n",
              "    </tr>\n",
              "    <tr>\n",
              "      <th>3</th>\n",
              "      <td>Resort Hotel</td>\n",
              "      <td>0</td>\n",
              "      <td>13</td>\n",
              "      <td>2015</td>\n",
              "      <td>July</td>\n",
              "      <td>27</td>\n",
              "      <td>1</td>\n",
              "      <td>0</td>\n",
              "      <td>1</td>\n",
              "      <td>1</td>\n",
              "      <td>0.0</td>\n",
              "      <td>0</td>\n",
              "      <td>BB</td>\n",
              "      <td>GBR</td>\n",
              "      <td>Corporate</td>\n",
              "      <td>Corporate</td>\n",
              "      <td>0</td>\n",
              "      <td>0</td>\n",
              "      <td>0</td>\n",
              "      <td>A</td>\n",
              "      <td>A</td>\n",
              "      <td>0</td>\n",
              "      <td>No Deposit</td>\n",
              "      <td>304.0</td>\n",
              "      <td>NaN</td>\n",
              "      <td>0</td>\n",
              "      <td>Transient</td>\n",
              "      <td>75.0</td>\n",
              "      <td>0</td>\n",
              "      <td>0</td>\n",
              "      <td>Check-Out</td>\n",
              "      <td>2015-07-02</td>\n",
              "    </tr>\n",
              "    <tr>\n",
              "      <th>4</th>\n",
              "      <td>Resort Hotel</td>\n",
              "      <td>0</td>\n",
              "      <td>14</td>\n",
              "      <td>2015</td>\n",
              "      <td>July</td>\n",
              "      <td>27</td>\n",
              "      <td>1</td>\n",
              "      <td>0</td>\n",
              "      <td>2</td>\n",
              "      <td>2</td>\n",
              "      <td>0.0</td>\n",
              "      <td>0</td>\n",
              "      <td>BB</td>\n",
              "      <td>GBR</td>\n",
              "      <td>Online TA</td>\n",
              "      <td>TA/TO</td>\n",
              "      <td>0</td>\n",
              "      <td>0</td>\n",
              "      <td>0</td>\n",
              "      <td>A</td>\n",
              "      <td>A</td>\n",
              "      <td>0</td>\n",
              "      <td>No Deposit</td>\n",
              "      <td>240.0</td>\n",
              "      <td>NaN</td>\n",
              "      <td>0</td>\n",
              "      <td>Transient</td>\n",
              "      <td>98.0</td>\n",
              "      <td>0</td>\n",
              "      <td>1</td>\n",
              "      <td>Check-Out</td>\n",
              "      <td>2015-07-03</td>\n",
              "    </tr>\n",
              "  </tbody>\n",
              "</table>\n",
              "</div>"
            ],
            "text/plain": [
              "          hotel  is_canceled  ...  reservation_status  reservation_status_date\n",
              "0  Resort Hotel            0  ...           Check-Out               2015-07-01\n",
              "1  Resort Hotel            0  ...           Check-Out               2015-07-01\n",
              "2  Resort Hotel            0  ...           Check-Out               2015-07-02\n",
              "3  Resort Hotel            0  ...           Check-Out               2015-07-02\n",
              "4  Resort Hotel            0  ...           Check-Out               2015-07-03\n",
              "\n",
              "[5 rows x 32 columns]"
            ]
          },
          "metadata": {
            "tags": []
          },
          "execution_count": 6
        }
      ]
    },
    {
      "cell_type": "markdown",
      "metadata": {
        "id": "ZXycixk8SRpw"
      },
      "source": [
        "##Descrizione delle features"
      ]
    },
    {
      "cell_type": "markdown",
      "metadata": {
        "id": "rDFsFZorNlyq"
      },
      "source": [
        "Riportiamo le informazioni sul dataset tratte dalla [fonte](https://www.sciencedirect.com/science/article/pii/S2352340918315191)\n",
        "\n",
        "1. **`hotel`** l'hotel a cui fa riferimento la prenotazione.\n",
        "\n",
        "1. **`isCanceled`** valore che indica se la prenotazione è stata cancellata oppure no. Si tratta della variabile da predire. Assume valori 0 e 1.\n",
        "\n",
        "1. **`leadTime`** numero di giorni passati tra il momento in cui è stata sottomessa la prenotazione e la data di arrivo.\n",
        "\n",
        "1. **`arrivalDateYear`** anno della data di arrivo.\n",
        "\n",
        "1. **`arrivalDateMonth`** mese della data di arrivo.\n",
        "\n",
        "1. **`arrivalDateWeekNumber`** mese della data di arrivo.\n",
        "\n",
        "1. **`arrivalDateDayOfMonth`** giorno del mese della data di arrivo.\n",
        "\n",
        "1. **`staysInWeekendNights`** numero di notti di un weekend prenotate.\n",
        "\n",
        "1. **`staysInWeekNights`** numero di notti non nel weekend prenotate.\n",
        "\n",
        "1. **`adults`** numero di adulti.\n",
        "\n",
        "1. **`children`** numero di figli.\n",
        "\n",
        "1. **`babies`** numero di bambini piccoli.\n",
        "\n",
        "1. **`Meal`** tipo di pasto prenotato. Undefined/SC se non è stato scelto alcun pasto, BB per bread & breakfast, HB per colazioni e un altro pasto, FB per tutti i pasti.\n",
        "\n",
        "1. **`country`** paese di origine\n",
        "\n",
        "1. **`marketSegment`** il segmento di mercato di designazione.\n",
        "\n",
        "1. **`distributionChannel`** il canale di distribuzione delle prenotazioni.\n",
        "\n",
        "1. **`isRepeatedGuest`** indica se la prenotazione è stata fatta con un nominativo usato per prenotazioni precedenti.\n",
        "\n",
        "1. **`previousCancellations`** numero di prenotazioni precedenti che sono state cancellate in precedenza dal cliente.\n",
        "\n",
        "1. **`previousBookingsNotCanceled`** numero di prenotazioni precedenti che non sono state cancellate in precedenza dal cliente.\n",
        "\n",
        "1. **`reservedRoomType`** codice del tipo di stanza riservata.\n",
        "\n",
        "1. **`assignedRoomType`** tipo della stanza assegnata alla prenotazione. In alcuni casi può essere diverso dal tipo di stanza riservato.\n",
        "\n",
        "1. **`bookingChanges`** numero di cambiamenti fatti alla prenotazione dal momento in cui viene sottomessa a quando viene fatto check-in/annullamento.\n",
        "\n",
        "1. **`depositType`** indica se un cliente ha fatto il deposito per garantire la prenotazione: vale no deposit se non è stato fatto alcun deposito, non refund se è stato fatto un deposito del valore del totale, refundable se è stato fatto un deposito parziale.\n",
        "\n",
        "1. **`agent`** ID dell'agenzia di viaggi che ha fatto la prenotazione.\n",
        "\n",
        "1. **`company`** ID della compagnia o entità che ha fatto/pagato la prenotazione.\n",
        "\n",
        "1. **`daysInWaitingList`** numero di giorni durante i quali la prenotazione è rimasta nella lista di attesa prima di venire confermata al cliente.\n",
        "\n",
        "1. **`customerType`** tipo di prenotazione. Si assumono 4 tipi di prenotazione: contratto, group, transient se non rientra nei primi due e non è associata ad altre prenotazioni transitorie, transient-party se è associata a una prenotazione transitoria.\n",
        "\n",
        "1. **`adr`** average daily rate ovvero la tariffa media giornaliera incassata per le camere al netto di tasse, sconti e pasti.\n",
        "\n",
        "1. **`requiredCardParkingSpaces`** numero di posti parcheggio richiesti dal cliente.\n",
        "\n",
        "1. **`totalOfSpecialRequests`** numero di richieste speciali fatte dal cliente.\n",
        "\n",
        "1. **`reservationStatus`** ultimo stato della prenotazione: può essere canceled, check-out, no-show\n",
        "\n",
        "1. **`reservationStatusDate`** data dell'ultimo aggiornamento dello status.\n"
      ]
    },
    {
      "cell_type": "code",
      "metadata": {
        "colab": {
          "base_uri": "https://localhost:8080/"
        },
        "id": "nR_zKm7Gi-_J",
        "outputId": "d98a1df7-a884-479b-be58-ee69a8505fb7"
      },
      "source": [
        "bookings.info(memory_usage=\"deep\")"
      ],
      "execution_count": 7,
      "outputs": [
        {
          "output_type": "stream",
          "text": [
            "<class 'pandas.core.frame.DataFrame'>\n",
            "RangeIndex: 119390 entries, 0 to 119389\n",
            "Data columns (total 32 columns):\n",
            " #   Column                          Non-Null Count   Dtype  \n",
            "---  ------                          --------------   -----  \n",
            " 0   hotel                           119390 non-null  object \n",
            " 1   is_canceled                     119390 non-null  int64  \n",
            " 2   lead_time                       119390 non-null  int64  \n",
            " 3   arrival_date_year               119390 non-null  int64  \n",
            " 4   arrival_date_month              119390 non-null  object \n",
            " 5   arrival_date_week_number        119390 non-null  int64  \n",
            " 6   arrival_date_day_of_month       119390 non-null  int64  \n",
            " 7   stays_in_weekend_nights         119390 non-null  int64  \n",
            " 8   stays_in_week_nights            119390 non-null  int64  \n",
            " 9   adults                          119390 non-null  int64  \n",
            " 10  children                        119386 non-null  float64\n",
            " 11  babies                          119390 non-null  int64  \n",
            " 12  meal                            119390 non-null  object \n",
            " 13  country                         118902 non-null  object \n",
            " 14  market_segment                  119390 non-null  object \n",
            " 15  distribution_channel            119390 non-null  object \n",
            " 16  is_repeated_guest               119390 non-null  int64  \n",
            " 17  previous_cancellations          119390 non-null  int64  \n",
            " 18  previous_bookings_not_canceled  119390 non-null  int64  \n",
            " 19  reserved_room_type              119390 non-null  object \n",
            " 20  assigned_room_type              119390 non-null  object \n",
            " 21  booking_changes                 119390 non-null  int64  \n",
            " 22  deposit_type                    119390 non-null  object \n",
            " 23  agent                           103050 non-null  float64\n",
            " 24  company                         6797 non-null    float64\n",
            " 25  days_in_waiting_list            119390 non-null  int64  \n",
            " 26  customer_type                   119390 non-null  object \n",
            " 27  adr                             119390 non-null  float64\n",
            " 28  required_car_parking_spaces     119390 non-null  int64  \n",
            " 29  total_of_special_requests       119390 non-null  int64  \n",
            " 30  reservation_status              119390 non-null  object \n",
            " 31  reservation_status_date         119390 non-null  object \n",
            "dtypes: float64(4), int64(16), object(12)\n",
            "memory usage: 104.8 MB\n"
          ],
          "name": "stdout"
        }
      ]
    },
    {
      "cell_type": "markdown",
      "metadata": {
        "id": "F64v5VPHuX2L"
      },
      "source": [
        "## Eliminazione variabili non rilevanti"
      ]
    },
    {
      "cell_type": "markdown",
      "metadata": {
        "id": "0KrF33kOKQBl"
      },
      "source": [
        "L'obiettivo è quello di utilizzare il dataset per addestrare un modello in grado di predire se un cliente annullerà la prenotazione fatta. In particolare dovrà predire il valore della variabile binaria discreta **is_canceled**: 1 in caso di cancellazione, 0 in caso contrario.\n",
        "\n",
        "Dal momento che il dataset raccoglie informazioni riguardanti due hotel decidiamo di focalizzarci sull'hotel di città. Dobbiamo quindi lavorare solo sulle righe con dati riguardanti quell'hotel e rimuovere la colonna **hotel**.\n",
        "\n"
      ]
    },
    {
      "cell_type": "code",
      "metadata": {
        "colab": {
          "base_uri": "https://localhost:8080/"
        },
        "id": "U-mwUqyJ9bMx",
        "outputId": "1e4b4597-45c5-4b83-97cd-f7c7d7f25315"
      },
      "source": [
        "#verifico che siano gli unici hotel di cui sono stati inseriti i dati\n",
        "bookings[\"hotel\"].value_counts()"
      ],
      "execution_count": 8,
      "outputs": [
        {
          "output_type": "execute_result",
          "data": {
            "text/plain": [
              "City Hotel      79330\n",
              "Resort Hotel    40060\n",
              "Name: hotel, dtype: int64"
            ]
          },
          "metadata": {
            "tags": []
          },
          "execution_count": 8
        }
      ]
    },
    {
      "cell_type": "code",
      "metadata": {
        "id": "UM2FBCJNK8Zq"
      },
      "source": [
        "#mantengo solo le righe del City Hotel\n",
        "b = bookings[\"hotel\"] == \"City Hotel\"\n",
        "bookings = bookings[b]"
      ],
      "execution_count": 9,
      "outputs": []
    },
    {
      "cell_type": "markdown",
      "metadata": {
        "id": "2o43UkUV6wHh"
      },
      "source": [
        "L'obiettivo è quello di addestrare un modello generale, in grado di gestire casi di nuovi clienti e che si basi quindi principalmente sulle informazioni relative alle prenotazioni. Pertanto le variabili **is_repeated_guest**, **previous_cancellations** e **previous_bookings_not_canceled** saranno rimosse."
      ]
    },
    {
      "cell_type": "markdown",
      "metadata": {
        "id": "OCGs8l77Hyug"
      },
      "source": [
        "Anche **arrival_date_year** non presenta un'informazione utile per la predizione. Può essere però utile per la visualizzazione di alcune variabili e sarà rimossa in un secondo momento."
      ]
    },
    {
      "cell_type": "markdown",
      "metadata": {
        "id": "0Wd_GXU30CPW"
      },
      "source": [
        "Per via della natura della variabile da predire non possiamo utilizzare le variabili **reserved_room_type** e **booking_changes** in quanto la prima è nota solo in un momento successivo alla prenotazione e entrambe sono soggette a cambiamenti."
      ]
    },
    {
      "cell_type": "markdown",
      "metadata": {
        "id": "9ohyOLSGB-YZ"
      },
      "source": [
        "La variabile **country** presenta 166 classi alcune poco popolate. Questo potrebbe influenzare in modo negativo la predizione e pertanto verrà rimossa."
      ]
    },
    {
      "cell_type": "code",
      "metadata": {
        "colab": {
          "base_uri": "https://localhost:8080/"
        },
        "id": "clvStRTACNBe",
        "outputId": "a65b541c-69ff-49de-f7cb-21e9ef9ccdf7"
      },
      "source": [
        "print(bookings[\"country\"].isna().sum())\n",
        "print(len(bookings[\"country\"].unique()))\n",
        "print(bookings[\"country\"].value_counts())"
      ],
      "execution_count": 10,
      "outputs": [
        {
          "output_type": "stream",
          "text": [
            "24\n",
            "167\n",
            "PRT    30960\n",
            "FRA     8804\n",
            "DEU     6084\n",
            "GBR     5315\n",
            "ESP     4611\n",
            "       ...  \n",
            "NCL        1\n",
            "KIR        1\n",
            "AIA        1\n",
            "UGA        1\n",
            "MRT        1\n",
            "Name: country, Length: 166, dtype: int64\n"
          ],
          "name": "stdout"
        }
      ]
    },
    {
      "cell_type": "markdown",
      "metadata": {
        "id": "l3ocbhppB674"
      },
      "source": [
        "Infine la variabile **reservation_status** non può essere utilizzata perchè se assume valore diverso da \"No-show\" (che non fornisce informazioni) otteniamo il valore di **is_canceled** ovvero della variabile da predire. Di conseguenza non possiamo utilizzare nemmeno **reservation_status_date** che fa riferimento a **reservation_status**"
      ]
    },
    {
      "cell_type": "code",
      "metadata": {
        "id": "WQY-j7pdbWkM"
      },
      "source": [
        "#scarto le colonne hotel, booking_changes, reservation_status e reservation_status_date\n",
        "bookings.drop(columns=[\"hotel\", \"previous_cancellations\", \"previous_bookings_not_canceled\", \"reserved_room_type\", \"booking_changes\", \"country\", \"is_repeated_guest\", \"reservation_status\", \"reservation_status_date\"], inplace=True)"
      ],
      "execution_count": 11,
      "outputs": []
    },
    {
      "cell_type": "code",
      "metadata": {
        "colab": {
          "base_uri": "https://localhost:8080/"
        },
        "id": "ch0WOuVGbtc9",
        "outputId": "1a50b02d-3639-47bf-926d-93328d1554f2"
      },
      "source": [
        "#verifica e visualizzazione shape \n",
        "print(bookings.shape)"
      ],
      "execution_count": 12,
      "outputs": [
        {
          "output_type": "stream",
          "text": [
            "(79330, 23)\n"
          ],
          "name": "stdout"
        }
      ]
    },
    {
      "cell_type": "markdown",
      "metadata": {
        "id": "z5SJvZf7jsG2"
      },
      "source": [
        "##Gestione valori nulli"
      ]
    },
    {
      "cell_type": "markdown",
      "metadata": {
        "id": "k-8n09brrOvG"
      },
      "source": [
        "Riveliamo la presenza di valori nulli"
      ]
    },
    {
      "cell_type": "code",
      "metadata": {
        "colab": {
          "base_uri": "https://localhost:8080/"
        },
        "id": "yYuuInO2j2qZ",
        "outputId": "c8e86ecf-3a53-4b25-c272-81acafed4481"
      },
      "source": [
        "bookings.isna().sum()"
      ],
      "execution_count": 13,
      "outputs": [
        {
          "output_type": "execute_result",
          "data": {
            "text/plain": [
              "is_canceled                        0\n",
              "lead_time                          0\n",
              "arrival_date_year                  0\n",
              "arrival_date_month                 0\n",
              "arrival_date_week_number           0\n",
              "arrival_date_day_of_month          0\n",
              "stays_in_weekend_nights            0\n",
              "stays_in_week_nights               0\n",
              "adults                             0\n",
              "children                           4\n",
              "babies                             0\n",
              "meal                               0\n",
              "market_segment                     0\n",
              "distribution_channel               0\n",
              "assigned_room_type                 0\n",
              "deposit_type                       0\n",
              "agent                           8131\n",
              "company                        75641\n",
              "days_in_waiting_list               0\n",
              "customer_type                      0\n",
              "adr                                0\n",
              "required_car_parking_spaces        0\n",
              "total_of_special_requests          0\n",
              "dtype: int64"
            ]
          },
          "metadata": {
            "tags": []
          },
          "execution_count": 13
        }
      ]
    },
    {
      "cell_type": "markdown",
      "metadata": {
        "id": "xBqfkK9QkY4r"
      },
      "source": [
        "Posso supporre che la varibile **children** valga 0 se non inserita."
      ]
    },
    {
      "cell_type": "code",
      "metadata": {
        "id": "LtXLj0FDkXZV"
      },
      "source": [
        "bookings[\"children\"].fillna(0, inplace=True)"
      ],
      "execution_count": 14,
      "outputs": []
    },
    {
      "cell_type": "markdown",
      "metadata": {
        "id": "hwvujxZEtymF"
      },
      "source": [
        "Rimuoviamo le righe in cui non siamo a conoscenza di country"
      ]
    },
    {
      "cell_type": "markdown",
      "metadata": {
        "id": "iH_6Ionsze8r"
      },
      "source": [
        "Notiamo che le colonne **agent** e **company** presentano molti valori mancanti e verranno quindi rimosse. \n",
        "\n",
        "Nel caso di **agent** la scelta è stata effettuata considerando che per la natura della variabile questa si divide in numerose classi e alcune poco popolate. Introdurre una classe 'unknown' avrebbe avuto un forte impatto."
      ]
    },
    {
      "cell_type": "code",
      "metadata": {
        "colab": {
          "base_uri": "https://localhost:8080/"
        },
        "id": "s_kOKX2J_y0L",
        "outputId": "edfccdc6-f6eb-425e-a787-3f12660db0ad"
      },
      "source": [
        "#numero di classi diverse per agent\n",
        "print(len(bookings[\"agent\"].unique()))\n",
        "bookings.drop(columns=[\"agent\", \"company\"], inplace=True)"
      ],
      "execution_count": 15,
      "outputs": [
        {
          "output_type": "stream",
          "text": [
            "224\n"
          ],
          "name": "stdout"
        }
      ]
    },
    {
      "cell_type": "code",
      "metadata": {
        "colab": {
          "base_uri": "https://localhost:8080/"
        },
        "id": "9dCOaq6gBUM5",
        "outputId": "fa3bcde0-8416-48f4-cd58-c5aa73de9a50"
      },
      "source": [
        "bookings.isna().sum()"
      ],
      "execution_count": 16,
      "outputs": [
        {
          "output_type": "execute_result",
          "data": {
            "text/plain": [
              "is_canceled                    0\n",
              "lead_time                      0\n",
              "arrival_date_year              0\n",
              "arrival_date_month             0\n",
              "arrival_date_week_number       0\n",
              "arrival_date_day_of_month      0\n",
              "stays_in_weekend_nights        0\n",
              "stays_in_week_nights           0\n",
              "adults                         0\n",
              "children                       0\n",
              "babies                         0\n",
              "meal                           0\n",
              "market_segment                 0\n",
              "distribution_channel           0\n",
              "assigned_room_type             0\n",
              "deposit_type                   0\n",
              "days_in_waiting_list           0\n",
              "customer_type                  0\n",
              "adr                            0\n",
              "required_car_parking_spaces    0\n",
              "total_of_special_requests      0\n",
              "dtype: int64"
            ]
          },
          "metadata": {
            "tags": []
          },
          "execution_count": 16
        }
      ]
    },
    {
      "cell_type": "markdown",
      "metadata": {
        "id": "8JlHxwTpiIrt"
      },
      "source": [
        "##Data cleaning"
      ]
    },
    {
      "cell_type": "markdown",
      "metadata": {
        "id": "vRl0XXFVi9hz"
      },
      "source": [
        "Il numero di persone in totale non può essere minore o uguale di zero "
      ]
    },
    {
      "cell_type": "code",
      "metadata": {
        "colab": {
          "base_uri": "https://localhost:8080/"
        },
        "id": "VGIsGr_WiL-n",
        "outputId": "d8756d18-b5cd-4478-9354-c14885a934a2"
      },
      "source": [
        "#controllo\n",
        "guests_number = bookings[\"adults\"] + bookings[\"children\"] + bookings[\"babies\"]\n",
        "(guests_number <= 0).sum()"
      ],
      "execution_count": 17,
      "outputs": [
        {
          "output_type": "execute_result",
          "data": {
            "text/plain": [
              "167"
            ]
          },
          "metadata": {
            "tags": []
          },
          "execution_count": 17
        }
      ]
    },
    {
      "cell_type": "code",
      "metadata": {
        "id": "bUqo8Fe_kmne"
      },
      "source": [
        "#eliminazione\n",
        "bookings = bookings[guests_number > 0].copy()"
      ],
      "execution_count": 18,
      "outputs": []
    },
    {
      "cell_type": "code",
      "metadata": {
        "colab": {
          "base_uri": "https://localhost:8080/"
        },
        "id": "hQjz6IWXk7H-",
        "outputId": "081f98c3-f699-4d01-d0b0-ccebb89f8be9"
      },
      "source": [
        "#verifica\n",
        "guests_number = bookings[\"adults\"] + bookings[\"children\"] + bookings[\"babies\"]\n",
        "(guests_number <= 0).sum()"
      ],
      "execution_count": 19,
      "outputs": [
        {
          "output_type": "execute_result",
          "data": {
            "text/plain": [
              "0"
            ]
          },
          "metadata": {
            "tags": []
          },
          "execution_count": 19
        }
      ]
    },
    {
      "cell_type": "markdown",
      "metadata": {
        "id": "ymZpBXq1hKri"
      },
      "source": [
        "Alcune variabili categoriche presentano classi con pochissimi valori. Pertanto si decide di eliminare questi casi con pochi campioni per evitare che influenzino negativamente il modello ottenuto."
      ]
    },
    {
      "cell_type": "code",
      "metadata": {
        "id": "apix6IDUjm1D"
      },
      "source": [
        "def remove_classes_threshold(column, thresh):\n",
        "  #distribuzione\n",
        "  classes = bookings[column].value_counts()\n",
        "  \n",
        "  #le righe delle classi che superano la soglia sono mantenute\n",
        "  classes_ok = np.isin(bookings[column], classes[classes.array > thresh].index)\n",
        "  \n",
        "  #modifico il mio dataset\n",
        "  return bookings[classes_ok]"
      ],
      "execution_count": 20,
      "outputs": []
    },
    {
      "cell_type": "code",
      "metadata": {
        "id": "ZzgEJZUQkW77"
      },
      "source": [
        "t = 500\n",
        "bookings = remove_classes_threshold(\"assigned_room_type\", t)\n",
        "bookings = remove_classes_threshold(\"customer_type\", t)\n",
        "bookings = remove_classes_threshold(\"distribution_channel\", t)\n",
        "bookings = remove_classes_threshold(\"market_segment\", t)\n",
        "bookings = remove_classes_threshold(\"meal\", t)"
      ],
      "execution_count": 21,
      "outputs": []
    },
    {
      "cell_type": "code",
      "metadata": {
        "id": "8rZRtqa-eNgs"
      },
      "source": [
        "b = bookings.drop(columns=\"arrival_date_year\")"
      ],
      "execution_count": 22,
      "outputs": []
    },
    {
      "cell_type": "code",
      "metadata": {
        "id": "fVIhcdtnjEAh"
      },
      "source": [
        "custom_dtypes = {\n",
        "    \"arrival_date_month\": \"category\",\n",
        "    \"assigned_room_type\": \"category\",\n",
        "    \"customer_type\": \"category\",\n",
        "    \"deposit_type\": \"category\",\n",
        "    \"distribution_channel\": \"category\",\n",
        "    \"market_segment\": \"category\",\n",
        "    \"meal\": \"category\",\n",
        "}\n",
        "b = b.astype(custom_dtypes)"
      ],
      "execution_count": 23,
      "outputs": []
    },
    {
      "cell_type": "markdown",
      "metadata": {
        "id": "eIL5r1Qi1xl9"
      },
      "source": [
        "# Visualizzazione delle features"
      ]
    },
    {
      "cell_type": "code",
      "metadata": {
        "id": "fRF9i1-CVBpP"
      },
      "source": [
        "#Funzione per osservare la distribuzione di una variabile categorica.\n",
        "#Viene mostrato un grafo a torta con relativa percentuale\n",
        "def print_and_show_distribution_cat(c, labels=None):\n",
        "     print(bookings[c].value_counts())\n",
        "     print(len(bookings[c].unique()))\n",
        "     bookings[c].value_counts().plot.pie(autopct='%1.1f%%',  labels=bookings[c].value_counts().index, figsize=(7,7))"
      ],
      "execution_count": 24,
      "outputs": []
    },
    {
      "cell_type": "markdown",
      "metadata": {
        "id": "qKHIzCYBap4N"
      },
      "source": [
        "Visualizziamo la distribuzione della variabile discreta da predire **is_canceled**"
      ]
    },
    {
      "cell_type": "code",
      "metadata": {
        "id": "dF2qKX4abHL3",
        "colab": {
          "base_uri": "https://localhost:8080/",
          "height": 480
        },
        "outputId": "70c7ba2b-9cc2-41f2-b383-9b9f1f2cfbd0"
      },
      "source": [
        "print_and_show_distribution_cat(\"is_canceled\")"
      ],
      "execution_count": 25,
      "outputs": [
        {
          "output_type": "stream",
          "text": [
            "0    45161\n",
            "1    32896\n",
            "Name: is_canceled, dtype: int64\n",
            "2\n"
          ],
          "name": "stdout"
        },
        {
          "output_type": "display_data",
          "data": {
            "image/png": "[encoded data removed]",
            "text/plain": [
              "<Figure size 504x504 with 1 Axes>"
            ]
          },
          "metadata": {
            "tags": []
          }
        }
      ]
    },
    {
      "cell_type": "code",
      "metadata": {
        "id": "CiSjJba3bFV8",
        "colab": {
          "base_uri": "https://localhost:8080/"
        },
        "outputId": "ce8e8f52-bc60-4b21-8067-ea15c6f059e7"
      },
      "source": [
        "bookings.info(memory_usage=\"deep\")"
      ],
      "execution_count": 26,
      "outputs": [
        {
          "output_type": "stream",
          "text": [
            "<class 'pandas.core.frame.DataFrame'>\n",
            "Int64Index: 78057 entries, 40060 to 119389\n",
            "Data columns (total 21 columns):\n",
            " #   Column                       Non-Null Count  Dtype  \n",
            "---  ------                       --------------  -----  \n",
            " 0   is_canceled                  78057 non-null  int64  \n",
            " 1   lead_time                    78057 non-null  int64  \n",
            " 2   arrival_date_year            78057 non-null  int64  \n",
            " 3   arrival_date_month           78057 non-null  object \n",
            " 4   arrival_date_week_number     78057 non-null  int64  \n",
            " 5   arrival_date_day_of_month    78057 non-null  int64  \n",
            " 6   stays_in_weekend_nights      78057 non-null  int64  \n",
            " 7   stays_in_week_nights         78057 non-null  int64  \n",
            " 8   adults                       78057 non-null  int64  \n",
            " 9   children                     78057 non-null  float64\n",
            " 10  babies                       78057 non-null  int64  \n",
            " 11  meal                         78057 non-null  object \n",
            " 12  market_segment               78057 non-null  object \n",
            " 13  distribution_channel         78057 non-null  object \n",
            " 14  assigned_room_type           78057 non-null  object \n",
            " 15  deposit_type                 78057 non-null  object \n",
            " 16  days_in_waiting_list         78057 non-null  int64  \n",
            " 17  customer_type                78057 non-null  object \n",
            " 18  adr                          78057 non-null  float64\n",
            " 19  required_car_parking_spaces  78057 non-null  int64  \n",
            " 20  total_of_special_requests    78057 non-null  int64  \n",
            "dtypes: float64(2), int64(12), object(7)\n",
            "memory usage: 41.9 MB\n"
          ],
          "name": "stdout"
        }
      ]
    },
    {
      "cell_type": "code",
      "metadata": {
        "id": "Qg8wVGpSaxvL"
      },
      "source": [
        "def print_and_show_distribution_cat(c, labels=None):\n",
        "     print(bookings[c].value_counts())\n",
        "     print(len(bookings[c].unique()))\n",
        "     bookings[c].value_counts().plot.pie(autopct='%1.1f%%',  labels=bookings[c].value_counts().index, figsize=(7,7))"
      ],
      "execution_count": 27,
      "outputs": []
    },
    {
      "cell_type": "markdown",
      "metadata": {
        "id": "gMqqLLWQYJW2"
      },
      "source": [
        "## Visualizzazione variabili numeriche"
      ]
    },
    {
      "cell_type": "markdown",
      "metadata": {
        "id": "O-8pUEIvrB6J"
      },
      "source": [
        "Visualizziamo la correlazione delle variabili numeriche focalizzandoci sul legame con **is_canceled**. Notiamo che non vi sono correlazioni alte tra le features."
      ]
    },
    {
      "cell_type": "code",
      "metadata": {
        "colab": {
          "base_uri": "https://localhost:8080/"
        },
        "id": "ZsT6ILztqlcr",
        "outputId": "409fa9e5-20f8-4c5b-b350-12408ed274bc"
      },
      "source": [
        "corr = b.corr()\n",
        "a = corr[\"is_canceled\"].sort_values(ascending=False)[1:]\n",
        "print(a)"
      ],
      "execution_count": 28,
      "outputs": [
        {
          "output_type": "stream",
          "text": [
            "lead_time                      0.307355\n",
            "days_in_waiting_list           0.060412\n",
            "stays_in_week_nights           0.049528\n",
            "adults                         0.046455\n",
            "arrival_date_week_number       0.001523\n",
            "arrival_date_day_of_month     -0.004416\n",
            "stays_in_weekend_nights       -0.007813\n",
            "adr                           -0.017231\n",
            "children                      -0.028176\n",
            "babies                        -0.030583\n",
            "required_car_parking_spaces   -0.134267\n",
            "total_of_special_requests     -0.297302\n",
            "Name: is_canceled, dtype: float64\n"
          ],
          "name": "stdout"
        }
      ]
    },
    {
      "cell_type": "code",
      "metadata": {
        "colab": {
          "base_uri": "https://localhost:8080/",
          "height": 320
        },
        "id": "UWInY_kBOIoS",
        "outputId": "be7df63e-57f6-4b3e-b2fa-edd8a37ff73c"
      },
      "source": [
        "b.describe()"
      ],
      "execution_count": 29,
      "outputs": [
        {
          "output_type": "execute_result",
          "data": {
            "text/html": [
              "<div>\n",
              "<style scoped>\n",
              "    .dataframe tbody tr th:only-of-type {\n",
              "        vertical-align: middle;\n",
              "    }\n",
              "\n",
              "    .dataframe tbody tr th {\n",
              "        vertical-align: top;\n",
              "    }\n",
              "\n",
              "    .dataframe thead th {\n",
              "        text-align: right;\n",
              "    }\n",
              "</style>\n",
              "<table border=\"1\" class=\"dataframe\">\n",
              "  <thead>\n",
              "    <tr style=\"text-align: right;\">\n",
              "      <th></th>\n",
              "      <th>is_canceled</th>\n",
              "      <th>lead_time</th>\n",
              "      <th>arrival_date_week_number</th>\n",
              "      <th>arrival_date_day_of_month</th>\n",
              "      <th>stays_in_weekend_nights</th>\n",
              "      <th>stays_in_week_nights</th>\n",
              "      <th>adults</th>\n",
              "      <th>children</th>\n",
              "      <th>babies</th>\n",
              "      <th>days_in_waiting_list</th>\n",
              "      <th>adr</th>\n",
              "      <th>required_car_parking_spaces</th>\n",
              "      <th>total_of_special_requests</th>\n",
              "    </tr>\n",
              "  </thead>\n",
              "  <tbody>\n",
              "    <tr>\n",
              "      <th>count</th>\n",
              "      <td>78057.000000</td>\n",
              "      <td>78057.000000</td>\n",
              "      <td>78057.000000</td>\n",
              "      <td>78057.000000</td>\n",
              "      <td>78057.000000</td>\n",
              "      <td>78057.000000</td>\n",
              "      <td>78057.000000</td>\n",
              "      <td>78057.000000</td>\n",
              "      <td>78057.000000</td>\n",
              "      <td>78057.000000</td>\n",
              "      <td>78057.000000</td>\n",
              "      <td>78057.000000</td>\n",
              "      <td>78057.000000</td>\n",
              "    </tr>\n",
              "    <tr>\n",
              "      <th>mean</th>\n",
              "      <td>0.421436</td>\n",
              "      <td>110.860064</td>\n",
              "      <td>27.147584</td>\n",
              "      <td>15.789628</td>\n",
              "      <td>0.795137</td>\n",
              "      <td>2.186120</td>\n",
              "      <td>1.860294</td>\n",
              "      <td>0.092202</td>\n",
              "      <td>0.004945</td>\n",
              "      <td>3.271929</td>\n",
              "      <td>105.631791</td>\n",
              "      <td>0.024380</td>\n",
              "      <td>0.548240</td>\n",
              "    </tr>\n",
              "    <tr>\n",
              "      <th>std</th>\n",
              "      <td>0.493792</td>\n",
              "      <td>111.117966</td>\n",
              "      <td>13.376196</td>\n",
              "      <td>8.728694</td>\n",
              "      <td>0.876064</td>\n",
              "      <td>1.422425</td>\n",
              "      <td>0.499712</td>\n",
              "      <td>0.373919</td>\n",
              "      <td>0.084557</td>\n",
              "      <td>21.019806</td>\n",
              "      <td>43.354050</td>\n",
              "      <td>0.154971</td>\n",
              "      <td>0.781471</td>\n",
              "    </tr>\n",
              "    <tr>\n",
              "      <th>min</th>\n",
              "      <td>0.000000</td>\n",
              "      <td>0.000000</td>\n",
              "      <td>1.000000</td>\n",
              "      <td>1.000000</td>\n",
              "      <td>0.000000</td>\n",
              "      <td>0.000000</td>\n",
              "      <td>0.000000</td>\n",
              "      <td>0.000000</td>\n",
              "      <td>0.000000</td>\n",
              "      <td>0.000000</td>\n",
              "      <td>0.000000</td>\n",
              "      <td>0.000000</td>\n",
              "      <td>0.000000</td>\n",
              "    </tr>\n",
              "    <tr>\n",
              "      <th>25%</th>\n",
              "      <td>0.000000</td>\n",
              "      <td>24.000000</td>\n",
              "      <td>17.000000</td>\n",
              "      <td>8.000000</td>\n",
              "      <td>0.000000</td>\n",
              "      <td>1.000000</td>\n",
              "      <td>2.000000</td>\n",
              "      <td>0.000000</td>\n",
              "      <td>0.000000</td>\n",
              "      <td>0.000000</td>\n",
              "      <td>79.200000</td>\n",
              "      <td>0.000000</td>\n",
              "      <td>0.000000</td>\n",
              "    </tr>\n",
              "    <tr>\n",
              "      <th>50%</th>\n",
              "      <td>0.000000</td>\n",
              "      <td>75.000000</td>\n",
              "      <td>27.000000</td>\n",
              "      <td>16.000000</td>\n",
              "      <td>1.000000</td>\n",
              "      <td>2.000000</td>\n",
              "      <td>2.000000</td>\n",
              "      <td>0.000000</td>\n",
              "      <td>0.000000</td>\n",
              "      <td>0.000000</td>\n",
              "      <td>100.000000</td>\n",
              "      <td>0.000000</td>\n",
              "      <td>0.000000</td>\n",
              "    </tr>\n",
              "    <tr>\n",
              "      <th>75%</th>\n",
              "      <td>1.000000</td>\n",
              "      <td>164.000000</td>\n",
              "      <td>38.000000</td>\n",
              "      <td>23.000000</td>\n",
              "      <td>2.000000</td>\n",
              "      <td>3.000000</td>\n",
              "      <td>2.000000</td>\n",
              "      <td>0.000000</td>\n",
              "      <td>0.000000</td>\n",
              "      <td>0.000000</td>\n",
              "      <td>126.000000</td>\n",
              "      <td>0.000000</td>\n",
              "      <td>1.000000</td>\n",
              "    </tr>\n",
              "    <tr>\n",
              "      <th>max</th>\n",
              "      <td>1.000000</td>\n",
              "      <td>629.000000</td>\n",
              "      <td>53.000000</td>\n",
              "      <td>31.000000</td>\n",
              "      <td>10.000000</td>\n",
              "      <td>25.000000</td>\n",
              "      <td>4.000000</td>\n",
              "      <td>3.000000</td>\n",
              "      <td>10.000000</td>\n",
              "      <td>391.000000</td>\n",
              "      <td>5400.000000</td>\n",
              "      <td>3.000000</td>\n",
              "      <td>5.000000</td>\n",
              "    </tr>\n",
              "  </tbody>\n",
              "</table>\n",
              "</div>"
            ],
            "text/plain": [
              "        is_canceled  ...  total_of_special_requests\n",
              "count  78057.000000  ...               78057.000000\n",
              "mean       0.421436  ...                   0.548240\n",
              "std        0.493792  ...                   0.781471\n",
              "min        0.000000  ...                   0.000000\n",
              "25%        0.000000  ...                   0.000000\n",
              "50%        0.000000  ...                   0.000000\n",
              "75%        1.000000  ...                   1.000000\n",
              "max        1.000000  ...                   5.000000\n",
              "\n",
              "[8 rows x 13 columns]"
            ]
          },
          "metadata": {
            "tags": []
          },
          "execution_count": 29
        }
      ]
    },
    {
      "cell_type": "markdown",
      "metadata": {
        "id": "16qdF2aab8om"
      },
      "source": [
        "Utilizzando il metodo describe rileviamo la media, il valore massimo e il valore minimo, la variazione standard e i percentili di ogni features numerica."
      ]
    },
    {
      "cell_type": "code",
      "metadata": {
        "colab": {
          "base_uri": "https://localhost:8080/",
          "height": 317
        },
        "id": "68_XV13DZgdU",
        "outputId": "acda6cdf-a318-4710-96e1-a6cd7fe1bd9a"
      },
      "source": [
        "bookings['arrival_date_year'].value_counts().plot.pie();\n",
        "print(bookings['arrival_date_year'].value_counts())"
      ],
      "execution_count": 30,
      "outputs": [
        {
          "output_type": "stream",
          "text": [
            "2016    37589\n",
            "2017    27020\n",
            "2015    13448\n",
            "Name: arrival_date_year, dtype: int64\n"
          ],
          "name": "stdout"
        },
        {
          "output_type": "display_data",
          "data": {
            "image/png": "[encoded data removed]",
            "text/plain": [
              "<Figure size 432x288 with 1 Axes>"
            ]
          },
          "metadata": {
            "tags": []
          }
        }
      ]
    },
    {
      "cell_type": "markdown",
      "metadata": {
        "id": "ig0UpfgBaGLL"
      },
      "source": [
        "Come riportato alla [fonte](https://www.sciencedirect.com/science/article/pii/S2352340918315191) i dati sono stati raccolti a partire dal 1 luglio 2015 fino al 31 agosto 2017. Questo ha impatto sul numero di prenotazioni di cui sono salvati i dati per ciascun."
      ]
    },
    {
      "cell_type": "code",
      "metadata": {
        "colab": {
          "base_uri": "https://localhost:8080/",
          "height": 265
        },
        "id": "LPNK4SkmW8h9",
        "outputId": "728d7287-3edf-4952-a609-841d2fdb8e60"
      },
      "source": [
        "plt.hist(bookings['arrival_date_week_number']);"
      ],
      "execution_count": 31,
      "outputs": [
        {
          "output_type": "display_data",
          "data": {
            "image/png": "[encoded data removed]",
            "text/plain": [
              "<Figure size 432x288 with 1 Axes>"
            ]
          },
          "metadata": {
            "tags": [],
            "needs_background": "light"
          }
        }
      ]
    },
    {
      "cell_type": "code",
      "metadata": {
        "colab": {
          "base_uri": "https://localhost:8080/",
          "height": 445
        },
        "id": "XOqeoD19woru",
        "outputId": "8f7d2ccf-7619-4974-ca14-1a18bcc92909"
      },
      "source": [
        "bookings['arrival_date_week_number'].hist(by=bookings['arrival_date_year'], layout=(3,1), figsize=(5,7), sharex=True, sharey = True, bins=20);"
      ],
      "execution_count": 32,
      "outputs": [
        {
          "output_type": "display_data",
          "data": {
            "image/png": "[encoded data removed]",
            "text/plain": [
              "<Figure size 360x504 with 3 Axes>"
            ]
          },
          "metadata": {
            "tags": [],
            "needs_background": "light"
          }
        }
      ]
    },
    {
      "cell_type": "markdown",
      "metadata": {
        "id": "xvQHUz1YW0BH"
      },
      "source": [
        "Inizialmente possiamo vedere come vi siano meno prenotazioni nelle prime e nelle ultime settimane dell'anno. Questo potrebbe essere dovuto dal periodo durante il quale sono stati raccolti i dati piuttosto che dall'assenza di prenotazioni. "
      ]
    },
    {
      "cell_type": "code",
      "metadata": {
        "id": "Bp9lELqCZqQ3"
      },
      "source": [
        "bookings = b.copy()"
      ],
      "execution_count": 33,
      "outputs": []
    },
    {
      "cell_type": "code",
      "metadata": {
        "colab": {
          "base_uri": "https://localhost:8080/",
          "height": 265
        },
        "id": "dgd3HKLrYmaE",
        "outputId": "e8e794ca-7001-4805-d2eb-a2a6b632087e"
      },
      "source": [
        "plt.hist(bookings['arrival_date_day_of_month']);"
      ],
      "execution_count": 34,
      "outputs": [
        {
          "output_type": "display_data",
          "data": {
            "image/png": "[encoded data removed]",
            "text/plain": [
              "<Figure size 432x288 with 1 Axes>"
            ]
          },
          "metadata": {
            "tags": [],
            "needs_background": "light"
          }
        }
      ]
    },
    {
      "cell_type": "markdown",
      "metadata": {
        "id": "vyorxkniYpUM"
      },
      "source": [
        "Questo dato, come ci si poteva aspettare, risulta equidistribuito e possiamo considerarne la rimozione considerando il fatto che abbiamo a disposizione altre variabili che danno informazioni riguardo il periodo per cui è fatta la prenotazione."
      ]
    },
    {
      "cell_type": "code",
      "metadata": {
        "colab": {
          "base_uri": "https://localhost:8080/",
          "height": 295
        },
        "id": "sLg49WDKruy3",
        "outputId": "a50cc7c4-8982-4ee9-ae7e-a17085cceca8"
      },
      "source": [
        "plt.figure(figsize=(20, 10))\n",
        "\n",
        "plt.subplot(2, 3, 1)\n",
        "plt.hist(bookings[\"adr\"], color=\"gray\")\n",
        "\n",
        "plt.subplot(2, 3, 2)\n",
        "plt.boxplot(bookings['adr']);"
      ],
      "execution_count": 35,
      "outputs": [
        {
          "output_type": "display_data",
          "data": {
            "image/png": "[encoded data removed]",
            "text/plain": [
              "<Figure size 1440x720 with 2 Axes>"
            ]
          },
          "metadata": {
            "tags": [],
            "needs_background": "light"
          }
        }
      ]
    },
    {
      "cell_type": "markdown",
      "metadata": {
        "id": "CNuPlYTLw_E9"
      },
      "source": [
        "Possiamo notare che i prezzi per giornata sono compresi tra circa 0 e 500 e che esiste solo un caso isolato di prezzo molto alto oltre i 5000. Questo valore rappresenta un outliers e pertanto verrà rimosso."
      ]
    },
    {
      "cell_type": "code",
      "metadata": {
        "colab": {
          "base_uri": "https://localhost:8080/",
          "height": 295
        },
        "id": "c6BOxvoeXGUA",
        "outputId": "d5555bfb-179d-48d5-8927-f4ef29be02bc"
      },
      "source": [
        "bookings = bookings[bookings[\"adr\"] < 5000]\n",
        "plt.figure(figsize=(20, 10))\n",
        "\n",
        "plt.subplot(2, 3, 1)\n",
        "plt.hist(bookings[\"adr\"], color=\"gray\")\n",
        "\n",
        "plt.subplot(2, 3, 2)\n",
        "plt.boxplot(bookings['adr']);"
      ],
      "execution_count": 36,
      "outputs": [
        {
          "output_type": "display_data",
          "data": {
            "image/png": "[encoded data removed]",
            "text/plain": [
              "<Figure size 1440x720 with 2 Axes>"
            ]
          },
          "metadata": {
            "tags": [],
            "needs_background": "light"
          }
        }
      ]
    },
    {
      "cell_type": "code",
      "metadata": {
        "colab": {
          "base_uri": "https://localhost:8080/",
          "height": 296
        },
        "id": "qIrnJ4EsyyZK",
        "outputId": "0b4f223a-f583-4824-b227-9981267232c7"
      },
      "source": [
        "plt.figure(figsize=(20, 10))\n",
        "\n",
        "plt.subplot(2, 3, 1)\n",
        "plt.hist(bookings['adults'], color=\"lightcoral\");\n",
        "plt.subplot(2, 3, 2)\n",
        "plt.hist(bookings['children'], color=\"indianred\");\n",
        "plt.subplot(2, 3, 3)\n",
        "plt.hist(bookings['babies'], color=\"brown\");"
      ],
      "execution_count": 37,
      "outputs": [
        {
          "output_type": "display_data",
          "data": {
            "image/png": "[encoded data removed]",
            "text/plain": [
              "<Figure size 1440x720 with 3 Axes>"
            ]
          },
          "metadata": {
            "tags": [],
            "needs_background": "light"
          }
        }
      ]
    },
    {
      "cell_type": "markdown",
      "metadata": {
        "id": "YsZKEKrz1L_4"
      },
      "source": [
        "Osserviamo che molto spesso il numero di adulti che effettuano la prenotazione è 2 mentre visualizzando le variabili **children** e **babies** notiamo che sono più rari i casi in cui supera lo zero."
      ]
    },
    {
      "cell_type": "code",
      "metadata": {
        "colab": {
          "base_uri": "https://localhost:8080/",
          "height": 282
        },
        "id": "JTt_7fCveE4x",
        "outputId": "a428e63a-9f26-49d1-dbf3-194acdff1eff"
      },
      "source": [
        "plt.hist(bookings['days_in_waiting_list'], bins=30);\n",
        "print((bookings['days_in_waiting_list'] == 0).sum())"
      ],
      "execution_count": 38,
      "outputs": [
        {
          "output_type": "stream",
          "text": [
            "74623\n"
          ],
          "name": "stdout"
        },
        {
          "output_type": "display_data",
          "data": {
            "image/png": "[encoded data removed]",
            "text/plain": [
              "<Figure size 432x288 with 1 Axes>"
            ]
          },
          "metadata": {
            "tags": [],
            "needs_background": "light"
          }
        }
      ]
    },
    {
      "cell_type": "markdown",
      "metadata": {
        "id": "nfcvLKEKf1wn"
      },
      "source": [
        "Risulta chiaro che siano molto rari i casi in cui **days_in_waiting_list** assume valori maggiori di zero e questo significa che le richieste vengono confermate entro il primo giorno."
      ]
    },
    {
      "cell_type": "code",
      "metadata": {
        "colab": {
          "base_uri": "https://localhost:8080/",
          "height": 265
        },
        "id": "9gWP4Kl8n_QM",
        "outputId": "22f1ba2f-df37-498a-fbdc-e133bba859fd"
      },
      "source": [
        "plt.hist(bookings['lead_time']);"
      ],
      "execution_count": 39,
      "outputs": [
        {
          "output_type": "display_data",
          "data": {
            "image/png": "[encoded data removed]",
            "text/plain": [
              "<Figure size 432x288 with 1 Axes>"
            ]
          },
          "metadata": {
            "tags": [],
            "needs_background": "light"
          }
        }
      ]
    },
    {
      "cell_type": "markdown",
      "metadata": {
        "id": "z-7PcDKVoTd6"
      },
      "source": [
        "Prendendo in esame **lead_time** abbiamo che il massimo valore è 629 ma dal momento che la media vale circa 110 possiamo affermare che sia molto raro. Anche ragionando sul significato della variabile appare chiaro che sia molto difficile che una prenotazione sia fatta con quasi due anni di anticipo."
      ]
    },
    {
      "cell_type": "code",
      "metadata": {
        "colab": {
          "base_uri": "https://localhost:8080/",
          "height": 282
        },
        "id": "H36BUJxMqtQT",
        "outputId": "a845d83b-e0b5-4986-d1a1-02814d979991"
      },
      "source": [
        "plt.hist(bookings['required_car_parking_spaces']);\n",
        "\n",
        "#assume valore 0 nella maggior parte dei casi\n",
        "print((bookings['required_car_parking_spaces'] > 0).sum())"
      ],
      "execution_count": 40,
      "outputs": [
        {
          "output_type": "stream",
          "text": [
            "1896\n"
          ],
          "name": "stdout"
        },
        {
          "output_type": "display_data",
          "data": {
            "image/png": "[encoded data removed]",
            "text/plain": [
              "<Figure size 432x288 with 1 Axes>"
            ]
          },
          "metadata": {
            "tags": [],
            "needs_background": "light"
          }
        }
      ]
    },
    {
      "cell_type": "markdown",
      "metadata": {
        "id": "ky8sh7PXcnmQ"
      },
      "source": [
        "Nell'hotel la maggior parte delle prenotazioni non richiede un posto per parcheggiare."
      ]
    },
    {
      "cell_type": "code",
      "metadata": {
        "colab": {
          "base_uri": "https://localhost:8080/",
          "height": 450
        },
        "id": "hIVZE0BEc_4T",
        "outputId": "f4d14cf4-7497-472d-879d-fe8155f8856e"
      },
      "source": [
        "plt.figure(figsize=(20, 10))\n",
        "\n",
        "plt.subplot(2, 3, 1)\n",
        "plt.hist(bookings['stays_in_weekend_nights'], bins=20);\n",
        "plt.subplot(2, 3, 2)\n",
        "plt.hist(bookings['stays_in_week_nights'], bins=20);\n",
        "plt.subplot(2, 3, 3)\n",
        "total_nights = bookings['stays_in_week_nights'] + bookings['stays_in_weekend_nights']\n",
        "print(total_nights.describe())\n",
        "plt.hist(total_nights, bins=20);"
      ],
      "execution_count": 41,
      "outputs": [
        {
          "output_type": "stream",
          "text": [
            "count    78056.000000\n",
            "mean         2.981283\n",
            "std          1.808221\n",
            "min          0.000000\n",
            "25%          2.000000\n",
            "50%          3.000000\n",
            "75%          4.000000\n",
            "max         34.000000\n",
            "dtype: float64\n"
          ],
          "name": "stdout"
        },
        {
          "output_type": "display_data",
          "data": {
            "image/png": "[encoded data removed]",
            "text/plain": [
              "<Figure size 1440x720 with 3 Axes>"
            ]
          },
          "metadata": {
            "tags": [],
            "needs_background": "light"
          }
        }
      ]
    },
    {
      "cell_type": "markdown",
      "metadata": {
        "id": "uKUyrVY_u41r"
      },
      "source": [
        "Si osserva che i media le prenotazioni riguardano 3 notti. Ci sono casi rarissimi di vacanze molto più lunghe."
      ]
    },
    {
      "cell_type": "code",
      "metadata": {
        "colab": {
          "base_uri": "https://localhost:8080/",
          "height": 265
        },
        "id": "lAc7sgoQt4ch",
        "outputId": "2bd96431-4a78-4a57-e2ac-2e8aef4d2089"
      },
      "source": [
        "plt.hist(bookings['total_of_special_requests'], bins=5);"
      ],
      "execution_count": 42,
      "outputs": [
        {
          "output_type": "display_data",
          "data": {
            "image/png": "[encoded data removed]",
            "text/plain": [
              "<Figure size 432x288 with 1 Axes>"
            ]
          },
          "metadata": {
            "tags": [],
            "needs_background": "light"
          }
        }
      ]
    },
    {
      "cell_type": "markdown",
      "metadata": {
        "id": "YKLo6hRCsD85"
      },
      "source": [
        "Il numero di richieste speciali assume valori all'interno del range 0-5. Sono più frequenti i casi in cui sono fatte 0-1 richieste per prenotazione."
      ]
    },
    {
      "cell_type": "markdown",
      "metadata": {
        "id": "yMRR6jsfaj8K"
      },
      "source": [
        "##Visualizzazione variabili categoriche"
      ]
    },
    {
      "cell_type": "markdown",
      "metadata": {
        "id": "N0OjIvNH0Zl2"
      },
      "source": [
        "In questa sezione prendiamo in esame le variabili categoriche: osserveremo il numero di classi considerate da ciascuna variabile e la frequenza con cui esse appaiono all'interno del campione."
      ]
    },
    {
      "cell_type": "code",
      "metadata": {
        "colab": {
          "base_uri": "https://localhost:8080/",
          "height": 653
        },
        "id": "oXQvz7a82HkL",
        "outputId": "d0547dd0-c08d-4541-f6dd-07103ed4cc58"
      },
      "source": [
        "print_and_show_distribution_cat(\"arrival_date_month\")"
      ],
      "execution_count": 43,
      "outputs": [
        {
          "output_type": "stream",
          "text": [
            "August       8881\n",
            "May          8094\n",
            "July         8015\n",
            "June         7779\n",
            "October      7430\n",
            "April        7382\n",
            "September    7304\n",
            "March        6347\n",
            "February     4888\n",
            "November     4196\n",
            "December     4061\n",
            "January      3679\n",
            "Name: arrival_date_month, dtype: int64\n",
            "12\n"
          ],
          "name": "stdout"
        },
        {
          "output_type": "display_data",
          "data": {
            "image/png": "[encoded data removed]",
            "text/plain": [
              "<Figure size 504x504 with 1 Axes>"
            ]
          },
          "metadata": {
            "tags": []
          }
        }
      ]
    },
    {
      "cell_type": "markdown",
      "metadata": {
        "id": "vpXAurHH32jN"
      },
      "source": [
        "Il mese in cui si sono registrate più prenotazioni è Agosto. Il mese con minor numero di prenotazioni è invece Gennaio. Si osserva che la distribuzione ricopre tutti i 12 mesi ed è piuttosto equilibrata  e ciò è comprensibile per un hotel di città e quindi meta per il turismo per tutto l'anno."
      ]
    },
    {
      "cell_type": "code",
      "metadata": {
        "colab": {
          "base_uri": "https://localhost:8080/",
          "height": 549
        },
        "id": "jTokgl884105",
        "outputId": "2f586c5f-9c6c-4bc3-9c6d-e9b24542757e"
      },
      "source": [
        "print_and_show_distribution_cat(\"assigned_room_type\")"
      ],
      "execution_count": 44,
      "outputs": [
        {
          "output_type": "stream",
          "text": [
            "A    56508\n",
            "D    14767\n",
            "E     2106\n",
            "F     2009\n",
            "B     1980\n",
            "G      686\n",
            "Name: assigned_room_type, dtype: int64\n",
            "6\n"
          ],
          "name": "stdout"
        },
        {
          "output_type": "display_data",
          "data": {
            "image/png": "[encoded data removed]",
            "text/plain": [
              "<Figure size 504x504 with 1 Axes>"
            ]
          },
          "metadata": {
            "tags": []
          }
        }
      ]
    },
    {
      "cell_type": "markdown",
      "metadata": {
        "id": "EiJ_QVi58t69"
      },
      "source": [
        "Prevalgono le stanze di tipo A e B. Risultano meno frequenti le stanze di tipo D, E, F, B. Quasi inutilizzate le altre."
      ]
    },
    {
      "cell_type": "code",
      "metadata": {
        "colab": {
          "base_uri": "https://localhost:8080/",
          "height": 497
        },
        "id": "mXw12iF5dAdy",
        "outputId": "b2af4ff0-e0e5-4ad1-c6b4-9ffaf66140ab"
      },
      "source": [
        "print_and_show_distribution_cat(\"customer_type\")"
      ],
      "execution_count": 45,
      "outputs": [
        {
          "output_type": "stream",
          "text": [
            "Transient          58587\n",
            "Transient-Party    17177\n",
            "Contract            2292\n",
            "Name: customer_type, dtype: int64\n",
            "3\n"
          ],
          "name": "stdout"
        },
        {
          "output_type": "display_data",
          "data": {
            "image/png": "[encoded data removed]",
            "text/plain": [
              "<Figure size 504x504 with 1 Axes>"
            ]
          },
          "metadata": {
            "tags": []
          }
        }
      ]
    },
    {
      "cell_type": "markdown",
      "metadata": {
        "id": "c-bPrcFvdOzJ"
      },
      "source": [
        "**Transient** si presenta come la tipologia prevalente."
      ]
    },
    {
      "cell_type": "code",
      "metadata": {
        "colab": {
          "base_uri": "https://localhost:8080/",
          "height": 497
        },
        "id": "8zxcqEpHeWK-",
        "outputId": "87bf8f56-4e84-4d86-bb02-533aea79587b"
      },
      "source": [
        "print_and_show_distribution_cat(\"deposit_type\")"
      ],
      "execution_count": 46,
      "outputs": [
        {
          "output_type": "stream",
          "text": [
            "No Deposit    65170\n",
            "Non Refund    12866\n",
            "Refundable       20\n",
            "Name: deposit_type, dtype: int64\n",
            "3\n"
          ],
          "name": "stdout"
        },
        {
          "output_type": "display_data",
          "data": {
            "image/png": "[encoded data removed]",
            "text/plain": [
              "<Figure size 504x504 with 1 Axes>"
            ]
          },
          "metadata": {
            "tags": []
          }
        }
      ]
    },
    {
      "cell_type": "markdown",
      "metadata": {
        "id": "xhEo0Pj_3_fU"
      },
      "source": [
        "**Deposit** si presenta come la tipologia prevalente."
      ]
    },
    {
      "cell_type": "code",
      "metadata": {
        "colab": {
          "base_uri": "https://localhost:8080/",
          "height": 497
        },
        "id": "KtHFfYFeenbT",
        "outputId": "93fef5a8-b74d-46f9-8cdd-2eb6109fa033"
      },
      "source": [
        "print_and_show_distribution_cat(\"distribution_channel\")"
      ],
      "execution_count": 47,
      "outputs": [
        {
          "output_type": "stream",
          "text": [
            "TA/TO        68292\n",
            "Direct        6631\n",
            "Corporate     3133\n",
            "Name: distribution_channel, dtype: int64\n",
            "3\n"
          ],
          "name": "stdout"
        },
        {
          "output_type": "display_data",
          "data": {
            "image/png": "[encoded data removed]",
            "text/plain": [
              "<Figure size 504x504 with 1 Axes>"
            ]
          },
          "metadata": {
            "tags": []
          }
        }
      ]
    },
    {
      "cell_type": "markdown",
      "metadata": {
        "id": "zKCMxJMPe0UB"
      },
      "source": [
        "**TA/TO** è prevalente e ciò significa che le prenotazioni vengono fatte principalmente grazie a un agente di viaggi o a un organizzatore (tour operator)."
      ]
    },
    {
      "cell_type": "code",
      "metadata": {
        "colab": {
          "base_uri": "https://localhost:8080/",
          "height": 549
        },
        "id": "rxodzmpRgmGT",
        "outputId": "13247265-f000-418d-8ae6-68fba6b87d91"
      },
      "source": [
        "print_and_show_distribution_cat(\"market_segment\")"
      ],
      "execution_count": 48,
      "outputs": [
        {
          "output_type": "stream",
          "text": [
            "Online TA        38265\n",
            "Offline TA/TO    16480\n",
            "Groups           13890\n",
            "Direct            5964\n",
            "Corporate         2947\n",
            "Complementary      510\n",
            "Name: market_segment, dtype: int64\n",
            "6\n"
          ],
          "name": "stdout"
        },
        {
          "output_type": "display_data",
          "data": {
            "image/png": "[encoded data removed]",
            "text/plain": [
              "<Figure size 504x504 with 1 Axes>"
            ]
          },
          "metadata": {
            "tags": []
          }
        }
      ]
    },
    {
      "cell_type": "markdown",
      "metadata": {
        "id": "ViuAcjuLhg1j"
      },
      "source": [
        "**Market segment** dovrebbe mostrare i motivi che portano i clienti a fermarsi nell'hotel. Notiamo però che vi è un legame con **distribution channel**."
      ]
    },
    {
      "cell_type": "code",
      "metadata": {
        "colab": {
          "base_uri": "https://localhost:8080/",
          "height": 497
        },
        "id": "BNCqmI8ojheK",
        "outputId": "ffb4ef91-175f-4ada-ed13-13b70e24d3f9"
      },
      "source": [
        "print_and_show_distribution_cat(\"meal\")"
      ],
      "execution_count": 49,
      "outputs": [
        {
          "output_type": "stream",
          "text": [
            "BB    61391\n",
            "SC    10286\n",
            "HB     6379\n",
            "Name: meal, dtype: int64\n",
            "3\n"
          ],
          "name": "stdout"
        },
        {
          "output_type": "display_data",
          "data": {
            "image/png": "[encoded data removed]",
            "text/plain": [
              "<Figure size 504x504 with 1 Axes>"
            ]
          },
          "metadata": {
            "tags": []
          }
        }
      ]
    },
    {
      "cell_type": "markdown",
      "metadata": {
        "id": "bJY8bHLpkGo8"
      },
      "source": [
        "La maggior parte dei clienti sceglie l'opzione bed & breakfast."
      ]
    },
    {
      "cell_type": "markdown",
      "metadata": {
        "id": "leJT95IuoEW-"
      },
      "source": [
        "##Correlazione tra features"
      ]
    },
    {
      "cell_type": "markdown",
      "metadata": {
        "id": "6hPQDzQJwRli"
      },
      "source": [
        "Considerando che **lead_time** rappresenta il numero di giorni trascorsi tra la data della prenotazione e la data di arrivo si può ipotizzare che prenotazioni fatte con grande anticipo possano far sì che imprevisti non considerati dai clienti portino alla cancellazione della prenotazione."
      ]
    },
    {
      "cell_type": "code",
      "metadata": {
        "id": "088e4vymb9FT",
        "colab": {
          "base_uri": "https://localhost:8080/",
          "height": 341
        },
        "outputId": "7aef43f6-c525-449f-9e59-842b25554c54"
      },
      "source": [
        "usd_over_status = bookings[[\"is_canceled\", \"lead_time\"]].copy()\n",
        "usd_over_status.groupby([pd.qcut(usd_over_status[\"lead_time\"], q=8), \"is_canceled\"]).size().unstack(\"is_canceled\").plot.bar();"
      ],
      "execution_count": 50,
      "outputs": [
        {
          "output_type": "display_data",
          "data": {
            "image/png": "[encoded data removed]",
            "text/plain": [
              "<Figure size 432x288 with 1 Axes>"
            ]
          },
          "metadata": {
            "tags": [],
            "needs_background": "light"
          }
        }
      ]
    },
    {
      "cell_type": "markdown",
      "metadata": {
        "id": "4eMTFBrmv665"
      },
      "source": [
        "Dalla distribuzione notiamo che il numero di prenotazioni cancellate cresce ma\n",
        "anche per valori piuttosto alti rimane comunque più alto il numero di prenotazioni che hanno avuto successo. Notiamo però che quando il **lead time**\n",
        "è molto elevato prevale il numero di cancellazioni. "
      ]
    },
    {
      "cell_type": "markdown",
      "metadata": {
        "id": "harmfeX9ktOd"
      },
      "source": [
        "Sapendo che **deposit_type** indica se è stata effettuato o meno un pagamento possiamo pensare che chi lo ha effettuato non cancellerà la prenotazione."
      ]
    },
    {
      "cell_type": "code",
      "metadata": {
        "id": "t3bqFOdZelrh",
        "colab": {
          "base_uri": "https://localhost:8080/",
          "height": 498
        },
        "outputId": "fa278767-00a7-4855-8814-3218197b98d6"
      },
      "source": [
        "rcParams['figure.figsize'] = 11, 8\n",
        "sns.countplot(x='deposit_type', hue='is_canceled', data = bookings);"
      ],
      "execution_count": 51,
      "outputs": [
        {
          "output_type": "display_data",
          "data": {
            "image/png": "[encoded data removed]",
            "text/plain": [
              "<Figure size 792x576 with 1 Axes>"
            ]
          },
          "metadata": {
            "tags": [],
            "needs_background": "light"
          }
        }
      ]
    },
    {
      "cell_type": "markdown",
      "metadata": {
        "id": "FyITGSTQl60G"
      },
      "source": [
        "Notiamo che si verifica un'anomalia. Infatti in quasi tutti i casi si verifica il contraio. Questo risulta molto strano pertanto si potrebbe pensare di rimuovere questa variabile."
      ]
    },
    {
      "cell_type": "markdown",
      "metadata": {
        "id": "4feaerOpmzWZ"
      },
      "source": [
        "Si può pensare che all'aumentare delle richieste aumenti il numero di ritiri. Ma possiamo osservare dalla distribuzione seguente che non è così."
      ]
    },
    {
      "cell_type": "code",
      "metadata": {
        "id": "4oEtMcapg92u",
        "colab": {
          "base_uri": "https://localhost:8080/",
          "height": 498
        },
        "outputId": "7bfde990-8106-4c27-cc44-a0716d28d14f"
      },
      "source": [
        "rcParams['figure.figsize'] = 11, 8\n",
        "sns.countplot(x='total_of_special_requests', hue='is_canceled', data = bookings);"
      ],
      "execution_count": 52,
      "outputs": [
        {
          "output_type": "display_data",
          "data": {
            "image/png": "[encoded data removed]",
            "text/plain": [
              "<Figure size 792x576 with 1 Axes>"
            ]
          },
          "metadata": {
            "tags": [],
            "needs_background": "light"
          }
        }
      ]
    },
    {
      "cell_type": "markdown",
      "metadata": {
        "id": "GH6pOQ8Wof-n"
      },
      "source": [
        "Infine possiamo dire che **arrival_date_month** e **arrival_date_week_number** indichino intrinsecamente un'informazione simile e possiamo quindi scegliere di lavorare con una sola delle due variabili."
      ]
    },
    {
      "cell_type": "markdown",
      "metadata": {
        "id": "C1Dp4Xrto-Mv"
      },
      "source": [
        "# Riepilogo delle features scelte"
      ]
    },
    {
      "cell_type": "code",
      "metadata": {
        "colab": {
          "base_uri": "https://localhost:8080/",
          "height": 225
        },
        "id": "nB1ulrhLrJFV",
        "outputId": "c4ed7f96-f604-4e77-d0ff-c65e6c1ae772"
      },
      "source": [
        "bookings.head()"
      ],
      "execution_count": 53,
      "outputs": [
        {
          "output_type": "execute_result",
          "data": {
            "text/html": [
              "<div>\n",
              "<style scoped>\n",
              "    .dataframe tbody tr th:only-of-type {\n",
              "        vertical-align: middle;\n",
              "    }\n",
              "\n",
              "    .dataframe tbody tr th {\n",
              "        vertical-align: top;\n",
              "    }\n",
              "\n",
              "    .dataframe thead th {\n",
              "        text-align: right;\n",
              "    }\n",
              "</style>\n",
              "<table border=\"1\" class=\"dataframe\">\n",
              "  <thead>\n",
              "    <tr style=\"text-align: right;\">\n",
              "      <th></th>\n",
              "      <th>is_canceled</th>\n",
              "      <th>lead_time</th>\n",
              "      <th>arrival_date_month</th>\n",
              "      <th>arrival_date_week_number</th>\n",
              "      <th>arrival_date_day_of_month</th>\n",
              "      <th>stays_in_weekend_nights</th>\n",
              "      <th>stays_in_week_nights</th>\n",
              "      <th>adults</th>\n",
              "      <th>children</th>\n",
              "      <th>babies</th>\n",
              "      <th>meal</th>\n",
              "      <th>market_segment</th>\n",
              "      <th>distribution_channel</th>\n",
              "      <th>assigned_room_type</th>\n",
              "      <th>deposit_type</th>\n",
              "      <th>days_in_waiting_list</th>\n",
              "      <th>customer_type</th>\n",
              "      <th>adr</th>\n",
              "      <th>required_car_parking_spaces</th>\n",
              "      <th>total_of_special_requests</th>\n",
              "    </tr>\n",
              "  </thead>\n",
              "  <tbody>\n",
              "    <tr>\n",
              "      <th>40060</th>\n",
              "      <td>0</td>\n",
              "      <td>6</td>\n",
              "      <td>July</td>\n",
              "      <td>27</td>\n",
              "      <td>1</td>\n",
              "      <td>0</td>\n",
              "      <td>2</td>\n",
              "      <td>1</td>\n",
              "      <td>0.0</td>\n",
              "      <td>0</td>\n",
              "      <td>HB</td>\n",
              "      <td>Offline TA/TO</td>\n",
              "      <td>TA/TO</td>\n",
              "      <td>A</td>\n",
              "      <td>No Deposit</td>\n",
              "      <td>0</td>\n",
              "      <td>Transient</td>\n",
              "      <td>0.0</td>\n",
              "      <td>0</td>\n",
              "      <td>0</td>\n",
              "    </tr>\n",
              "    <tr>\n",
              "      <th>40061</th>\n",
              "      <td>1</td>\n",
              "      <td>88</td>\n",
              "      <td>July</td>\n",
              "      <td>27</td>\n",
              "      <td>1</td>\n",
              "      <td>0</td>\n",
              "      <td>4</td>\n",
              "      <td>2</td>\n",
              "      <td>0.0</td>\n",
              "      <td>0</td>\n",
              "      <td>BB</td>\n",
              "      <td>Online TA</td>\n",
              "      <td>TA/TO</td>\n",
              "      <td>A</td>\n",
              "      <td>No Deposit</td>\n",
              "      <td>0</td>\n",
              "      <td>Transient</td>\n",
              "      <td>76.5</td>\n",
              "      <td>0</td>\n",
              "      <td>1</td>\n",
              "    </tr>\n",
              "    <tr>\n",
              "      <th>40062</th>\n",
              "      <td>1</td>\n",
              "      <td>65</td>\n",
              "      <td>July</td>\n",
              "      <td>27</td>\n",
              "      <td>1</td>\n",
              "      <td>0</td>\n",
              "      <td>4</td>\n",
              "      <td>1</td>\n",
              "      <td>0.0</td>\n",
              "      <td>0</td>\n",
              "      <td>BB</td>\n",
              "      <td>Online TA</td>\n",
              "      <td>TA/TO</td>\n",
              "      <td>A</td>\n",
              "      <td>No Deposit</td>\n",
              "      <td>0</td>\n",
              "      <td>Transient</td>\n",
              "      <td>68.0</td>\n",
              "      <td>0</td>\n",
              "      <td>1</td>\n",
              "    </tr>\n",
              "    <tr>\n",
              "      <th>40063</th>\n",
              "      <td>1</td>\n",
              "      <td>92</td>\n",
              "      <td>July</td>\n",
              "      <td>27</td>\n",
              "      <td>1</td>\n",
              "      <td>2</td>\n",
              "      <td>4</td>\n",
              "      <td>2</td>\n",
              "      <td>0.0</td>\n",
              "      <td>0</td>\n",
              "      <td>BB</td>\n",
              "      <td>Online TA</td>\n",
              "      <td>TA/TO</td>\n",
              "      <td>A</td>\n",
              "      <td>No Deposit</td>\n",
              "      <td>0</td>\n",
              "      <td>Transient</td>\n",
              "      <td>76.5</td>\n",
              "      <td>0</td>\n",
              "      <td>2</td>\n",
              "    </tr>\n",
              "    <tr>\n",
              "      <th>40064</th>\n",
              "      <td>1</td>\n",
              "      <td>100</td>\n",
              "      <td>July</td>\n",
              "      <td>27</td>\n",
              "      <td>2</td>\n",
              "      <td>0</td>\n",
              "      <td>2</td>\n",
              "      <td>2</td>\n",
              "      <td>0.0</td>\n",
              "      <td>0</td>\n",
              "      <td>BB</td>\n",
              "      <td>Online TA</td>\n",
              "      <td>TA/TO</td>\n",
              "      <td>A</td>\n",
              "      <td>No Deposit</td>\n",
              "      <td>0</td>\n",
              "      <td>Transient</td>\n",
              "      <td>76.5</td>\n",
              "      <td>0</td>\n",
              "      <td>1</td>\n",
              "    </tr>\n",
              "  </tbody>\n",
              "</table>\n",
              "</div>"
            ],
            "text/plain": [
              "       is_canceled  ...  total_of_special_requests\n",
              "40060            0  ...                          0\n",
              "40061            1  ...                          1\n",
              "40062            1  ...                          1\n",
              "40063            1  ...                          2\n",
              "40064            1  ...                          1\n",
              "\n",
              "[5 rows x 20 columns]"
            ]
          },
          "metadata": {
            "tags": []
          },
          "execution_count": 53
        }
      ]
    },
    {
      "cell_type": "code",
      "metadata": {
        "id": "4mG5_y-dpyvo"
      },
      "source": [
        "cat_var = [\"assigned_room_type\",\n",
        "           \"customer_type\",\n",
        "           \"distribution_channel\",\n",
        "           \"market_segment\",\n",
        "           \"meal\",\n",
        "           ]"
      ],
      "execution_count": 54,
      "outputs": []
    },
    {
      "cell_type": "code",
      "metadata": {
        "id": "BPmMXOGKpzPL"
      },
      "source": [
        "num_var = [\"adr\",\n",
        "           \"adults\",\n",
        "           \"arrival_date_week_number\",\n",
        "           \"babies\",\n",
        "           \"children\",\n",
        "           \"days_in_waiting_list\",\n",
        "           \"lead_time\",\n",
        "           \"required_car_parking_spaces\",\n",
        "           \"stays_in_week_nights\",\n",
        "           \"stays_in_weekend_nights\",\n",
        "           \"total_of_special_requests\"\n",
        "           ]"
      ],
      "execution_count": 55,
      "outputs": []
    },
    {
      "cell_type": "code",
      "metadata": {
        "id": "sBgiOivRqnNy"
      },
      "source": [
        "bookings.drop(columns=[\"arrival_date_day_of_month\", \"arrival_date_month\", \"deposit_type\"], inplace=True)"
      ],
      "execution_count": 56,
      "outputs": []
    },
    {
      "cell_type": "code",
      "metadata": {
        "colab": {
          "base_uri": "https://localhost:8080/",
          "height": 225
        },
        "id": "fKELiFHtroY1",
        "outputId": "6f621eb5-9ad1-4867-c955-60da16eb5e2f"
      },
      "source": [
        "bookings.head()"
      ],
      "execution_count": 57,
      "outputs": [
        {
          "output_type": "execute_result",
          "data": {
            "text/html": [
              "<div>\n",
              "<style scoped>\n",
              "    .dataframe tbody tr th:only-of-type {\n",
              "        vertical-align: middle;\n",
              "    }\n",
              "\n",
              "    .dataframe tbody tr th {\n",
              "        vertical-align: top;\n",
              "    }\n",
              "\n",
              "    .dataframe thead th {\n",
              "        text-align: right;\n",
              "    }\n",
              "</style>\n",
              "<table border=\"1\" class=\"dataframe\">\n",
              "  <thead>\n",
              "    <tr style=\"text-align: right;\">\n",
              "      <th></th>\n",
              "      <th>is_canceled</th>\n",
              "      <th>lead_time</th>\n",
              "      <th>arrival_date_week_number</th>\n",
              "      <th>stays_in_weekend_nights</th>\n",
              "      <th>stays_in_week_nights</th>\n",
              "      <th>adults</th>\n",
              "      <th>children</th>\n",
              "      <th>babies</th>\n",
              "      <th>meal</th>\n",
              "      <th>market_segment</th>\n",
              "      <th>distribution_channel</th>\n",
              "      <th>assigned_room_type</th>\n",
              "      <th>days_in_waiting_list</th>\n",
              "      <th>customer_type</th>\n",
              "      <th>adr</th>\n",
              "      <th>required_car_parking_spaces</th>\n",
              "      <th>total_of_special_requests</th>\n",
              "    </tr>\n",
              "  </thead>\n",
              "  <tbody>\n",
              "    <tr>\n",
              "      <th>40060</th>\n",
              "      <td>0</td>\n",
              "      <td>6</td>\n",
              "      <td>27</td>\n",
              "      <td>0</td>\n",
              "      <td>2</td>\n",
              "      <td>1</td>\n",
              "      <td>0.0</td>\n",
              "      <td>0</td>\n",
              "      <td>HB</td>\n",
              "      <td>Offline TA/TO</td>\n",
              "      <td>TA/TO</td>\n",
              "      <td>A</td>\n",
              "      <td>0</td>\n",
              "      <td>Transient</td>\n",
              "      <td>0.0</td>\n",
              "      <td>0</td>\n",
              "      <td>0</td>\n",
              "    </tr>\n",
              "    <tr>\n",
              "      <th>40061</th>\n",
              "      <td>1</td>\n",
              "      <td>88</td>\n",
              "      <td>27</td>\n",
              "      <td>0</td>\n",
              "      <td>4</td>\n",
              "      <td>2</td>\n",
              "      <td>0.0</td>\n",
              "      <td>0</td>\n",
              "      <td>BB</td>\n",
              "      <td>Online TA</td>\n",
              "      <td>TA/TO</td>\n",
              "      <td>A</td>\n",
              "      <td>0</td>\n",
              "      <td>Transient</td>\n",
              "      <td>76.5</td>\n",
              "      <td>0</td>\n",
              "      <td>1</td>\n",
              "    </tr>\n",
              "    <tr>\n",
              "      <th>40062</th>\n",
              "      <td>1</td>\n",
              "      <td>65</td>\n",
              "      <td>27</td>\n",
              "      <td>0</td>\n",
              "      <td>4</td>\n",
              "      <td>1</td>\n",
              "      <td>0.0</td>\n",
              "      <td>0</td>\n",
              "      <td>BB</td>\n",
              "      <td>Online TA</td>\n",
              "      <td>TA/TO</td>\n",
              "      <td>A</td>\n",
              "      <td>0</td>\n",
              "      <td>Transient</td>\n",
              "      <td>68.0</td>\n",
              "      <td>0</td>\n",
              "      <td>1</td>\n",
              "    </tr>\n",
              "    <tr>\n",
              "      <th>40063</th>\n",
              "      <td>1</td>\n",
              "      <td>92</td>\n",
              "      <td>27</td>\n",
              "      <td>2</td>\n",
              "      <td>4</td>\n",
              "      <td>2</td>\n",
              "      <td>0.0</td>\n",
              "      <td>0</td>\n",
              "      <td>BB</td>\n",
              "      <td>Online TA</td>\n",
              "      <td>TA/TO</td>\n",
              "      <td>A</td>\n",
              "      <td>0</td>\n",
              "      <td>Transient</td>\n",
              "      <td>76.5</td>\n",
              "      <td>0</td>\n",
              "      <td>2</td>\n",
              "    </tr>\n",
              "    <tr>\n",
              "      <th>40064</th>\n",
              "      <td>1</td>\n",
              "      <td>100</td>\n",
              "      <td>27</td>\n",
              "      <td>0</td>\n",
              "      <td>2</td>\n",
              "      <td>2</td>\n",
              "      <td>0.0</td>\n",
              "      <td>0</td>\n",
              "      <td>BB</td>\n",
              "      <td>Online TA</td>\n",
              "      <td>TA/TO</td>\n",
              "      <td>A</td>\n",
              "      <td>0</td>\n",
              "      <td>Transient</td>\n",
              "      <td>76.5</td>\n",
              "      <td>0</td>\n",
              "      <td>1</td>\n",
              "    </tr>\n",
              "  </tbody>\n",
              "</table>\n",
              "</div>"
            ],
            "text/plain": [
              "       is_canceled  ...  total_of_special_requests\n",
              "40060            0  ...                          0\n",
              "40061            1  ...                          1\n",
              "40062            1  ...                          1\n",
              "40063            1  ...                          2\n",
              "40064            1  ...                          1\n",
              "\n",
              "[5 rows x 17 columns]"
            ]
          },
          "metadata": {
            "tags": []
          },
          "execution_count": 57
        }
      ]
    },
    {
      "cell_type": "markdown",
      "metadata": {
        "id": "DE2-dUfspUdI"
      },
      "source": [
        "#Modellazione"
      ]
    },
    {
      "cell_type": "markdown",
      "metadata": {
        "id": "SbYvuvUPyGxu"
      },
      "source": [
        "##Preparazione dati"
      ]
    },
    {
      "cell_type": "markdown",
      "metadata": {
        "id": "PR8kCqpvTlKa"
      },
      "source": [
        "Utilizziamo il metodo **get_dummies** per poter lavorare anche con le variabili categoriche"
      ]
    },
    {
      "cell_type": "code",
      "metadata": {
        "colab": {
          "base_uri": "https://localhost:8080/"
        },
        "id": "hcGtctDRzQja",
        "outputId": "54cc23ce-bee4-4621-e57d-eed14d7caf1e"
      },
      "source": [
        "bookings.shape"
      ],
      "execution_count": 58,
      "outputs": [
        {
          "output_type": "execute_result",
          "data": {
            "text/plain": [
              "(78056, 17)"
            ]
          },
          "metadata": {
            "tags": []
          },
          "execution_count": 58
        }
      ]
    },
    {
      "cell_type": "code",
      "metadata": {
        "id": "i19IgM22_MIB"
      },
      "source": [
        "bookings = pd.get_dummies(bookings, columns=cat_var, prefix=cat_var)"
      ],
      "execution_count": 59,
      "outputs": []
    },
    {
      "cell_type": "code",
      "metadata": {
        "colab": {
          "base_uri": "https://localhost:8080/",
          "height": 242
        },
        "id": "MpHTGwzN_hOv",
        "outputId": "c06c587d-b093-4a34-e9e6-cbe0bac459fe"
      },
      "source": [
        "bookings.head()"
      ],
      "execution_count": 60,
      "outputs": [
        {
          "output_type": "execute_result",
          "data": {
            "text/html": [
              "<div>\n",
              "<style scoped>\n",
              "    .dataframe tbody tr th:only-of-type {\n",
              "        vertical-align: middle;\n",
              "    }\n",
              "\n",
              "    .dataframe tbody tr th {\n",
              "        vertical-align: top;\n",
              "    }\n",
              "\n",
              "    .dataframe thead th {\n",
              "        text-align: right;\n",
              "    }\n",
              "</style>\n",
              "<table border=\"1\" class=\"dataframe\">\n",
              "  <thead>\n",
              "    <tr style=\"text-align: right;\">\n",
              "      <th></th>\n",
              "      <th>is_canceled</th>\n",
              "      <th>lead_time</th>\n",
              "      <th>arrival_date_week_number</th>\n",
              "      <th>stays_in_weekend_nights</th>\n",
              "      <th>stays_in_week_nights</th>\n",
              "      <th>adults</th>\n",
              "      <th>children</th>\n",
              "      <th>babies</th>\n",
              "      <th>days_in_waiting_list</th>\n",
              "      <th>adr</th>\n",
              "      <th>required_car_parking_spaces</th>\n",
              "      <th>total_of_special_requests</th>\n",
              "      <th>assigned_room_type_A</th>\n",
              "      <th>assigned_room_type_B</th>\n",
              "      <th>assigned_room_type_D</th>\n",
              "      <th>assigned_room_type_E</th>\n",
              "      <th>assigned_room_type_F</th>\n",
              "      <th>assigned_room_type_G</th>\n",
              "      <th>customer_type_Contract</th>\n",
              "      <th>customer_type_Transient</th>\n",
              "      <th>customer_type_Transient-Party</th>\n",
              "      <th>distribution_channel_Corporate</th>\n",
              "      <th>distribution_channel_Direct</th>\n",
              "      <th>distribution_channel_TA/TO</th>\n",
              "      <th>market_segment_Complementary</th>\n",
              "      <th>market_segment_Corporate</th>\n",
              "      <th>market_segment_Direct</th>\n",
              "      <th>market_segment_Groups</th>\n",
              "      <th>market_segment_Offline TA/TO</th>\n",
              "      <th>market_segment_Online TA</th>\n",
              "      <th>meal_BB</th>\n",
              "      <th>meal_HB</th>\n",
              "      <th>meal_SC</th>\n",
              "    </tr>\n",
              "  </thead>\n",
              "  <tbody>\n",
              "    <tr>\n",
              "      <th>40060</th>\n",
              "      <td>0</td>\n",
              "      <td>6</td>\n",
              "      <td>27</td>\n",
              "      <td>0</td>\n",
              "      <td>2</td>\n",
              "      <td>1</td>\n",
              "      <td>0.0</td>\n",
              "      <td>0</td>\n",
              "      <td>0</td>\n",
              "      <td>0.0</td>\n",
              "      <td>0</td>\n",
              "      <td>0</td>\n",
              "      <td>1</td>\n",
              "      <td>0</td>\n",
              "      <td>0</td>\n",
              "      <td>0</td>\n",
              "      <td>0</td>\n",
              "      <td>0</td>\n",
              "      <td>0</td>\n",
              "      <td>1</td>\n",
              "      <td>0</td>\n",
              "      <td>0</td>\n",
              "      <td>0</td>\n",
              "      <td>1</td>\n",
              "      <td>0</td>\n",
              "      <td>0</td>\n",
              "      <td>0</td>\n",
              "      <td>0</td>\n",
              "      <td>1</td>\n",
              "      <td>0</td>\n",
              "      <td>0</td>\n",
              "      <td>1</td>\n",
              "      <td>0</td>\n",
              "    </tr>\n",
              "    <tr>\n",
              "      <th>40061</th>\n",
              "      <td>1</td>\n",
              "      <td>88</td>\n",
              "      <td>27</td>\n",
              "      <td>0</td>\n",
              "      <td>4</td>\n",
              "      <td>2</td>\n",
              "      <td>0.0</td>\n",
              "      <td>0</td>\n",
              "      <td>0</td>\n",
              "      <td>76.5</td>\n",
              "      <td>0</td>\n",
              "      <td>1</td>\n",
              "      <td>1</td>\n",
              "      <td>0</td>\n",
              "      <td>0</td>\n",
              "      <td>0</td>\n",
              "      <td>0</td>\n",
              "      <td>0</td>\n",
              "      <td>0</td>\n",
              "      <td>1</td>\n",
              "      <td>0</td>\n",
              "      <td>0</td>\n",
              "      <td>0</td>\n",
              "      <td>1</td>\n",
              "      <td>0</td>\n",
              "      <td>0</td>\n",
              "      <td>0</td>\n",
              "      <td>0</td>\n",
              "      <td>0</td>\n",
              "      <td>1</td>\n",
              "      <td>1</td>\n",
              "      <td>0</td>\n",
              "      <td>0</td>\n",
              "    </tr>\n",
              "    <tr>\n",
              "      <th>40062</th>\n",
              "      <td>1</td>\n",
              "      <td>65</td>\n",
              "      <td>27</td>\n",
              "      <td>0</td>\n",
              "      <td>4</td>\n",
              "      <td>1</td>\n",
              "      <td>0.0</td>\n",
              "      <td>0</td>\n",
              "      <td>0</td>\n",
              "      <td>68.0</td>\n",
              "      <td>0</td>\n",
              "      <td>1</td>\n",
              "      <td>1</td>\n",
              "      <td>0</td>\n",
              "      <td>0</td>\n",
              "      <td>0</td>\n",
              "      <td>0</td>\n",
              "      <td>0</td>\n",
              "      <td>0</td>\n",
              "      <td>1</td>\n",
              "      <td>0</td>\n",
              "      <td>0</td>\n",
              "      <td>0</td>\n",
              "      <td>1</td>\n",
              "      <td>0</td>\n",
              "      <td>0</td>\n",
              "      <td>0</td>\n",
              "      <td>0</td>\n",
              "      <td>0</td>\n",
              "      <td>1</td>\n",
              "      <td>1</td>\n",
              "      <td>0</td>\n",
              "      <td>0</td>\n",
              "    </tr>\n",
              "    <tr>\n",
              "      <th>40063</th>\n",
              "      <td>1</td>\n",
              "      <td>92</td>\n",
              "      <td>27</td>\n",
              "      <td>2</td>\n",
              "      <td>4</td>\n",
              "      <td>2</td>\n",
              "      <td>0.0</td>\n",
              "      <td>0</td>\n",
              "      <td>0</td>\n",
              "      <td>76.5</td>\n",
              "      <td>0</td>\n",
              "      <td>2</td>\n",
              "      <td>1</td>\n",
              "      <td>0</td>\n",
              "      <td>0</td>\n",
              "      <td>0</td>\n",
              "      <td>0</td>\n",
              "      <td>0</td>\n",
              "      <td>0</td>\n",
              "      <td>1</td>\n",
              "      <td>0</td>\n",
              "      <td>0</td>\n",
              "      <td>0</td>\n",
              "      <td>1</td>\n",
              "      <td>0</td>\n",
              "      <td>0</td>\n",
              "      <td>0</td>\n",
              "      <td>0</td>\n",
              "      <td>0</td>\n",
              "      <td>1</td>\n",
              "      <td>1</td>\n",
              "      <td>0</td>\n",
              "      <td>0</td>\n",
              "    </tr>\n",
              "    <tr>\n",
              "      <th>40064</th>\n",
              "      <td>1</td>\n",
              "      <td>100</td>\n",
              "      <td>27</td>\n",
              "      <td>0</td>\n",
              "      <td>2</td>\n",
              "      <td>2</td>\n",
              "      <td>0.0</td>\n",
              "      <td>0</td>\n",
              "      <td>0</td>\n",
              "      <td>76.5</td>\n",
              "      <td>0</td>\n",
              "      <td>1</td>\n",
              "      <td>1</td>\n",
              "      <td>0</td>\n",
              "      <td>0</td>\n",
              "      <td>0</td>\n",
              "      <td>0</td>\n",
              "      <td>0</td>\n",
              "      <td>0</td>\n",
              "      <td>1</td>\n",
              "      <td>0</td>\n",
              "      <td>0</td>\n",
              "      <td>0</td>\n",
              "      <td>1</td>\n",
              "      <td>0</td>\n",
              "      <td>0</td>\n",
              "      <td>0</td>\n",
              "      <td>0</td>\n",
              "      <td>0</td>\n",
              "      <td>1</td>\n",
              "      <td>1</td>\n",
              "      <td>0</td>\n",
              "      <td>0</td>\n",
              "    </tr>\n",
              "  </tbody>\n",
              "</table>\n",
              "</div>"
            ],
            "text/plain": [
              "       is_canceled  lead_time  ...  meal_HB  meal_SC\n",
              "40060            0          6  ...        1        0\n",
              "40061            1         88  ...        0        0\n",
              "40062            1         65  ...        0        0\n",
              "40063            1         92  ...        0        0\n",
              "40064            1        100  ...        0        0\n",
              "\n",
              "[5 rows x 33 columns]"
            ]
          },
          "metadata": {
            "tags": []
          },
          "execution_count": 60
        }
      ]
    },
    {
      "cell_type": "code",
      "metadata": {
        "colab": {
          "base_uri": "https://localhost:8080/"
        },
        "id": "AVyrMwNz0tlu",
        "outputId": "dfb7e511-1efa-4561-d12c-00fcb8742ef4"
      },
      "source": [
        "bookings.shape"
      ],
      "execution_count": 61,
      "outputs": [
        {
          "output_type": "execute_result",
          "data": {
            "text/plain": [
              "(78056, 33)"
            ]
          },
          "metadata": {
            "tags": []
          },
          "execution_count": 61
        }
      ]
    },
    {
      "cell_type": "markdown",
      "metadata": {
        "id": "IZ__DX-WwK_r"
      },
      "source": [
        "##Suddivisione del dataset"
      ]
    },
    {
      "cell_type": "markdown",
      "metadata": {
        "id": "x4WEkXALawYy"
      },
      "source": [
        "Per accelerare i tempi di addestramento si procede a lavorare su un campione del dataset di 15.000 righe e prendendo metà campioni per ciascuna delle due classi."
      ]
    },
    {
      "cell_type": "code",
      "metadata": {
        "id": "6QQLKzyEWwso",
        "colab": {
          "base_uri": "https://localhost:8080/"
        },
        "outputId": "14fb4e8a-c980-4497-e30a-0c0f67020162"
      },
      "source": [
        "#inizializzazione del sample\n",
        "n = 15_000\n",
        "sample_canceled = bookings[bookings['is_canceled'] == 1].sample(n//2, random_state=42)\n",
        "sample_not_canceled = bookings[bookings['is_canceled'] == 0].sample(n//2, random_state=42)\n",
        "sample = sample_canceled.append(sample_not_canceled)\n",
        "\n",
        "X = sample.copy().drop('is_canceled', axis=1)\n",
        "y = sample['is_canceled']\n",
        "\n",
        "y.value_counts()"
      ],
      "execution_count": 62,
      "outputs": [
        {
          "output_type": "execute_result",
          "data": {
            "text/plain": [
              "1    7500\n",
              "0    7500\n",
              "Name: is_canceled, dtype: int64"
            ]
          },
          "metadata": {
            "tags": []
          },
          "execution_count": 62
        }
      ]
    },
    {
      "cell_type": "code",
      "metadata": {
        "id": "68dPsJ1-kn_7"
      },
      "source": [
        "#split in train e validation set\n",
        "X_train, X_val, y_train, y_val = train_test_split(X, y.values.ravel(), test_size=0.3, random_state=42, stratify=y.values)"
      ],
      "execution_count": 63,
      "outputs": []
    },
    {
      "cell_type": "markdown",
      "metadata": {
        "id": "B3zE1eW7b1D1"
      },
      "source": [
        "Si utilizza la stratified K fold validation perchè risulta particolarmente utile in un problema di classificazione in quanto aiuta a mantenere la stessa distribuzione all'interno dei diversi fold."
      ]
    },
    {
      "cell_type": "code",
      "metadata": {
        "id": "B5I3RMGdJcgg"
      },
      "source": [
        "skf = StratifiedKFold(5, shuffle=True, random_state=42)"
      ],
      "execution_count": 64,
      "outputs": []
    },
    {
      "cell_type": "code",
      "metadata": {
        "id": "DtCKgnblm7Pz"
      },
      "source": [
        "#Inizializzazione del dizionario che conterra per ciascun modello i valori di\n",
        "#accuracy, precision, recall e f1-score\n",
        "models = {}"
      ],
      "execution_count": 65,
      "outputs": []
    },
    {
      "cell_type": "markdown",
      "metadata": {
        "id": "Bl9lBFXvwcHq"
      },
      "source": [
        "##Perceptron"
      ]
    },
    {
      "cell_type": "code",
      "metadata": {
        "id": "bCa3h6KcxEf2"
      },
      "source": [
        "#modello\n",
        "model = Pipeline([\n",
        "    ('std', StandardScaler()),\n",
        "    ('perceptron', Perceptron(max_iter=8000, n_jobs=-1, early_stopping=True))\n",
        "])\n",
        "\n",
        "#griglia\n",
        "grid = {\n",
        "    'std': [None, StandardScaler()],\n",
        "    'perceptron__penalty': [None, 'l1', 'l2', 'elasticnet'],\n",
        "    'perceptron__alpha': np.logspace(-4, 0, 5),\n",
        "    'perceptron__tol': [1e-9, 1e-6, 1e-3],\n",
        "}"
      ],
      "execution_count": 66,
      "outputs": []
    },
    {
      "cell_type": "code",
      "metadata": {
        "id": "Ph-YlvA8bv3W"
      },
      "source": [
        "#training\n",
        "gs_perceptron = GridSearchCV(model, grid, cv=skf)\n",
        "gs_perceptron.fit(X_train, y_train);"
      ],
      "execution_count": 67,
      "outputs": []
    },
    {
      "cell_type": "code",
      "metadata": {
        "colab": {
          "base_uri": "https://localhost:8080/"
        },
        "id": "Wz1j7eBFcZbQ",
        "outputId": "22ff24b0-7af0-4672-e3e5-26a6f4498517"
      },
      "source": [
        "#I parametri per cui ho ottenuto i risultati migliori\n",
        "print('Best parameters:', gs_perceptron.best_params_)\n",
        "\n",
        "acc_train = gs_perceptron.score(X_train, y_train)\n",
        "acc_val = gs_perceptron.score(X_val, y_val)\n",
        "print(f'Accuracy on train {acc_train}')\n",
        "print(f'Accuracy on val {acc_val}')"
      ],
      "execution_count": 68,
      "outputs": [
        {
          "output_type": "stream",
          "text": [
            "Best parameters: {'perceptron__alpha': 0.0001, 'perceptron__penalty': 'l1', 'perceptron__tol': 1e-09, 'std': StandardScaler(copy=True, with_mean=True, with_std=True)}\n",
            "Accuracy on train 0.596\n",
            "Accuracy on val 0.6024444444444444\n"
          ],
          "name": "stdout"
        }
      ]
    },
    {
      "cell_type": "code",
      "metadata": {
        "colab": {
          "base_uri": "https://localhost:8080/",
          "height": 111
        },
        "id": "q180pQdZbHvi",
        "outputId": "f5cdf5f2-7cf3-4695-c03c-fe46c1ec7007"
      },
      "source": [
        "#matrice di confusione\n",
        "y_pred = gs_perceptron.predict(X_val)\n",
        "cm = confusion_matrix(y_val, y_pred)\n",
        "pd.DataFrame(cm, index=gs_perceptron.best_estimator_.classes_, columns=gs_perceptron.best_estimator_.classes_)"
      ],
      "execution_count": 69,
      "outputs": [
        {
          "output_type": "execute_result",
          "data": {
            "text/html": [
              "<div>\n",
              "<style scoped>\n",
              "    .dataframe tbody tr th:only-of-type {\n",
              "        vertical-align: middle;\n",
              "    }\n",
              "\n",
              "    .dataframe tbody tr th {\n",
              "        vertical-align: top;\n",
              "    }\n",
              "\n",
              "    .dataframe thead th {\n",
              "        text-align: right;\n",
              "    }\n",
              "</style>\n",
              "<table border=\"1\" class=\"dataframe\">\n",
              "  <thead>\n",
              "    <tr style=\"text-align: right;\">\n",
              "      <th></th>\n",
              "      <th>0</th>\n",
              "      <th>1</th>\n",
              "    </tr>\n",
              "  </thead>\n",
              "  <tbody>\n",
              "    <tr>\n",
              "      <th>0</th>\n",
              "      <td>1343</td>\n",
              "      <td>907</td>\n",
              "    </tr>\n",
              "    <tr>\n",
              "      <th>1</th>\n",
              "      <td>882</td>\n",
              "      <td>1368</td>\n",
              "    </tr>\n",
              "  </tbody>\n",
              "</table>\n",
              "</div>"
            ],
            "text/plain": [
              "      0     1\n",
              "0  1343   907\n",
              "1   882  1368"
            ]
          },
          "metadata": {
            "tags": []
          },
          "execution_count": 69
        }
      ]
    },
    {
      "cell_type": "code",
      "metadata": {
        "colab": {
          "base_uri": "https://localhost:8080/"
        },
        "id": "Abf6Q79lcGcT",
        "outputId": "3f6e14e1-ae8a-44bd-f9a7-7134b52998f3"
      },
      "source": [
        "precision = precision_score(y_val, y_pred, pos_label=0)\n",
        "recall = recall_score(y_val, y_pred, pos_label=0)\n",
        "f1 = f1_score(y_val, y_pred, average=\"macro\")\n",
        "\n",
        "print(f\"precision: {precision}, recall: {recall}, f1-score: {f1}\")"
      ],
      "execution_count": 70,
      "outputs": [
        {
          "output_type": "stream",
          "text": [
            "precision: 0.6035955056179775, recall: 0.5968888888888889, f1-score: 0.6024321738325258\n"
          ],
          "name": "stdout"
        }
      ]
    },
    {
      "cell_type": "code",
      "metadata": {
        "id": "Q4c3xHzGnOOB"
      },
      "source": [
        "models[\"perceptron\"] = [acc_train, acc_val, precision, recall, f1]"
      ],
      "execution_count": 71,
      "outputs": []
    },
    {
      "cell_type": "markdown",
      "metadata": {
        "id": "c1FqT2_FwQjP"
      },
      "source": [
        "##Logistic Regression"
      ]
    },
    {
      "cell_type": "code",
      "metadata": {
        "id": "99_Uy5EcwPpz"
      },
      "source": [
        "model = Pipeline([\n",
        "    (\"scaler\", StandardScaler()),\n",
        "    (\"lr\", LogisticRegression(solver=\"saga\", random_state=42))\n",
        "])\n",
        "\n",
        "grid = [\n",
        "    {\n",
        "        \"lr__penalty\": [\"l2\", \"l1\"],\n",
        "        \"lr__C\": np.logspace(-2, 2, 5),\n",
        "    },\n",
        "    {\n",
        "        \"lr__penalty\": [\"elasticnet\"],\n",
        "        \"lr__C\": np.logspace(-2, 2, 5),\n",
        "        \"lr__l1_ratio\": [0.2, 0.5]\n",
        "    }\n",
        "]"
      ],
      "execution_count": 72,
      "outputs": []
    },
    {
      "cell_type": "code",
      "metadata": {
        "colab": {
          "base_uri": "https://localhost:8080/"
        },
        "id": "fuoc_uL_o0HR",
        "outputId": "1cde9add-d1fa-471e-e50d-20ee44244f7f"
      },
      "source": [
        "#training\n",
        "gs_log = GridSearchCV(model, grid, cv=skf)\n",
        "gs_log.fit(X_train, y_train);"
      ],
      "execution_count": 73,
      "outputs": [
        {
          "output_type": "stream",
          "text": [
            "/usr/local/lib/python3.7/dist-packages/sklearn/linear_model/_sag.py:330: ConvergenceWarning: The max_iter was reached which means the coef_ did not converge\n",
            "  \"the coef_ did not converge\", ConvergenceWarning)\n",
            "/usr/local/lib/python3.7/dist-packages/sklearn/linear_model/_sag.py:330: ConvergenceWarning: The max_iter was reached which means the coef_ did not converge\n",
            "  \"the coef_ did not converge\", ConvergenceWarning)\n",
            "/usr/local/lib/python3.7/dist-packages/sklearn/linear_model/_sag.py:330: ConvergenceWarning: The max_iter was reached which means the coef_ did not converge\n",
            "  \"the coef_ did not converge\", ConvergenceWarning)\n",
            "/usr/local/lib/python3.7/dist-packages/sklearn/linear_model/_sag.py:330: ConvergenceWarning: The max_iter was reached which means the coef_ did not converge\n",
            "  \"the coef_ did not converge\", ConvergenceWarning)\n",
            "/usr/local/lib/python3.7/dist-packages/sklearn/linear_model/_sag.py:330: ConvergenceWarning: The max_iter was reached which means the coef_ did not converge\n",
            "  \"the coef_ did not converge\", ConvergenceWarning)\n",
            "/usr/local/lib/python3.7/dist-packages/sklearn/linear_model/_sag.py:330: ConvergenceWarning: The max_iter was reached which means the coef_ did not converge\n",
            "  \"the coef_ did not converge\", ConvergenceWarning)\n",
            "/usr/local/lib/python3.7/dist-packages/sklearn/linear_model/_sag.py:330: ConvergenceWarning: The max_iter was reached which means the coef_ did not converge\n",
            "  \"the coef_ did not converge\", ConvergenceWarning)\n",
            "/usr/local/lib/python3.7/dist-packages/sklearn/linear_model/_sag.py:330: ConvergenceWarning: The max_iter was reached which means the coef_ did not converge\n",
            "  \"the coef_ did not converge\", ConvergenceWarning)\n",
            "/usr/local/lib/python3.7/dist-packages/sklearn/linear_model/_sag.py:330: ConvergenceWarning: The max_iter was reached which means the coef_ did not converge\n",
            "  \"the coef_ did not converge\", ConvergenceWarning)\n",
            "/usr/local/lib/python3.7/dist-packages/sklearn/linear_model/_sag.py:330: ConvergenceWarning: The max_iter was reached which means the coef_ did not converge\n",
            "  \"the coef_ did not converge\", ConvergenceWarning)\n",
            "/usr/local/lib/python3.7/dist-packages/sklearn/linear_model/_sag.py:330: ConvergenceWarning: The max_iter was reached which means the coef_ did not converge\n",
            "  \"the coef_ did not converge\", ConvergenceWarning)\n",
            "/usr/local/lib/python3.7/dist-packages/sklearn/linear_model/_sag.py:330: ConvergenceWarning: The max_iter was reached which means the coef_ did not converge\n",
            "  \"the coef_ did not converge\", ConvergenceWarning)\n",
            "/usr/local/lib/python3.7/dist-packages/sklearn/linear_model/_sag.py:330: ConvergenceWarning: The max_iter was reached which means the coef_ did not converge\n",
            "  \"the coef_ did not converge\", ConvergenceWarning)\n",
            "/usr/local/lib/python3.7/dist-packages/sklearn/linear_model/_sag.py:330: ConvergenceWarning: The max_iter was reached which means the coef_ did not converge\n",
            "  \"the coef_ did not converge\", ConvergenceWarning)\n",
            "/usr/local/lib/python3.7/dist-packages/sklearn/linear_model/_sag.py:330: ConvergenceWarning: The max_iter was reached which means the coef_ did not converge\n",
            "  \"the coef_ did not converge\", ConvergenceWarning)\n",
            "/usr/local/lib/python3.7/dist-packages/sklearn/linear_model/_sag.py:330: ConvergenceWarning: The max_iter was reached which means the coef_ did not converge\n",
            "  \"the coef_ did not converge\", ConvergenceWarning)\n",
            "/usr/local/lib/python3.7/dist-packages/sklearn/linear_model/_sag.py:330: ConvergenceWarning: The max_iter was reached which means the coef_ did not converge\n",
            "  \"the coef_ did not converge\", ConvergenceWarning)\n",
            "/usr/local/lib/python3.7/dist-packages/sklearn/linear_model/_sag.py:330: ConvergenceWarning: The max_iter was reached which means the coef_ did not converge\n",
            "  \"the coef_ did not converge\", ConvergenceWarning)\n",
            "/usr/local/lib/python3.7/dist-packages/sklearn/linear_model/_sag.py:330: ConvergenceWarning: The max_iter was reached which means the coef_ did not converge\n",
            "  \"the coef_ did not converge\", ConvergenceWarning)\n",
            "/usr/local/lib/python3.7/dist-packages/sklearn/linear_model/_sag.py:330: ConvergenceWarning: The max_iter was reached which means the coef_ did not converge\n",
            "  \"the coef_ did not converge\", ConvergenceWarning)\n",
            "/usr/local/lib/python3.7/dist-packages/sklearn/linear_model/_sag.py:330: ConvergenceWarning: The max_iter was reached which means the coef_ did not converge\n",
            "  \"the coef_ did not converge\", ConvergenceWarning)\n",
            "/usr/local/lib/python3.7/dist-packages/sklearn/linear_model/_sag.py:330: ConvergenceWarning: The max_iter was reached which means the coef_ did not converge\n",
            "  \"the coef_ did not converge\", ConvergenceWarning)\n",
            "/usr/local/lib/python3.7/dist-packages/sklearn/linear_model/_sag.py:330: ConvergenceWarning: The max_iter was reached which means the coef_ did not converge\n",
            "  \"the coef_ did not converge\", ConvergenceWarning)\n",
            "/usr/local/lib/python3.7/dist-packages/sklearn/linear_model/_sag.py:330: ConvergenceWarning: The max_iter was reached which means the coef_ did not converge\n",
            "  \"the coef_ did not converge\", ConvergenceWarning)\n",
            "/usr/local/lib/python3.7/dist-packages/sklearn/linear_model/_sag.py:330: ConvergenceWarning: The max_iter was reached which means the coef_ did not converge\n",
            "  \"the coef_ did not converge\", ConvergenceWarning)\n",
            "/usr/local/lib/python3.7/dist-packages/sklearn/linear_model/_sag.py:330: ConvergenceWarning: The max_iter was reached which means the coef_ did not converge\n",
            "  \"the coef_ did not converge\", ConvergenceWarning)\n",
            "/usr/local/lib/python3.7/dist-packages/sklearn/linear_model/_sag.py:330: ConvergenceWarning: The max_iter was reached which means the coef_ did not converge\n",
            "  \"the coef_ did not converge\", ConvergenceWarning)\n",
            "/usr/local/lib/python3.7/dist-packages/sklearn/linear_model/_sag.py:330: ConvergenceWarning: The max_iter was reached which means the coef_ did not converge\n",
            "  \"the coef_ did not converge\", ConvergenceWarning)\n",
            "/usr/local/lib/python3.7/dist-packages/sklearn/linear_model/_sag.py:330: ConvergenceWarning: The max_iter was reached which means the coef_ did not converge\n",
            "  \"the coef_ did not converge\", ConvergenceWarning)\n",
            "/usr/local/lib/python3.7/dist-packages/sklearn/linear_model/_sag.py:330: ConvergenceWarning: The max_iter was reached which means the coef_ did not converge\n",
            "  \"the coef_ did not converge\", ConvergenceWarning)\n",
            "/usr/local/lib/python3.7/dist-packages/sklearn/linear_model/_sag.py:330: ConvergenceWarning: The max_iter was reached which means the coef_ did not converge\n",
            "  \"the coef_ did not converge\", ConvergenceWarning)\n",
            "/usr/local/lib/python3.7/dist-packages/sklearn/linear_model/_sag.py:330: ConvergenceWarning: The max_iter was reached which means the coef_ did not converge\n",
            "  \"the coef_ did not converge\", ConvergenceWarning)\n",
            "/usr/local/lib/python3.7/dist-packages/sklearn/linear_model/_sag.py:330: ConvergenceWarning: The max_iter was reached which means the coef_ did not converge\n",
            "  \"the coef_ did not converge\", ConvergenceWarning)\n",
            "/usr/local/lib/python3.7/dist-packages/sklearn/linear_model/_sag.py:330: ConvergenceWarning: The max_iter was reached which means the coef_ did not converge\n",
            "  \"the coef_ did not converge\", ConvergenceWarning)\n",
            "/usr/local/lib/python3.7/dist-packages/sklearn/linear_model/_sag.py:330: ConvergenceWarning: The max_iter was reached which means the coef_ did not converge\n",
            "  \"the coef_ did not converge\", ConvergenceWarning)\n",
            "/usr/local/lib/python3.7/dist-packages/sklearn/linear_model/_sag.py:330: ConvergenceWarning: The max_iter was reached which means the coef_ did not converge\n",
            "  \"the coef_ did not converge\", ConvergenceWarning)\n",
            "/usr/local/lib/python3.7/dist-packages/sklearn/linear_model/_sag.py:330: ConvergenceWarning: The max_iter was reached which means the coef_ did not converge\n",
            "  \"the coef_ did not converge\", ConvergenceWarning)\n",
            "/usr/local/lib/python3.7/dist-packages/sklearn/linear_model/_sag.py:330: ConvergenceWarning: The max_iter was reached which means the coef_ did not converge\n",
            "  \"the coef_ did not converge\", ConvergenceWarning)\n",
            "/usr/local/lib/python3.7/dist-packages/sklearn/linear_model/_sag.py:330: ConvergenceWarning: The max_iter was reached which means the coef_ did not converge\n",
            "  \"the coef_ did not converge\", ConvergenceWarning)\n",
            "/usr/local/lib/python3.7/dist-packages/sklearn/linear_model/_sag.py:330: ConvergenceWarning: The max_iter was reached which means the coef_ did not converge\n",
            "  \"the coef_ did not converge\", ConvergenceWarning)\n",
            "/usr/local/lib/python3.7/dist-packages/sklearn/linear_model/_sag.py:330: ConvergenceWarning: The max_iter was reached which means the coef_ did not converge\n",
            "  \"the coef_ did not converge\", ConvergenceWarning)\n",
            "/usr/local/lib/python3.7/dist-packages/sklearn/linear_model/_sag.py:330: ConvergenceWarning: The max_iter was reached which means the coef_ did not converge\n",
            "  \"the coef_ did not converge\", ConvergenceWarning)\n",
            "/usr/local/lib/python3.7/dist-packages/sklearn/linear_model/_sag.py:330: ConvergenceWarning: The max_iter was reached which means the coef_ did not converge\n",
            "  \"the coef_ did not converge\", ConvergenceWarning)\n",
            "/usr/local/lib/python3.7/dist-packages/sklearn/linear_model/_sag.py:330: ConvergenceWarning: The max_iter was reached which means the coef_ did not converge\n",
            "  \"the coef_ did not converge\", ConvergenceWarning)\n",
            "/usr/local/lib/python3.7/dist-packages/sklearn/linear_model/_sag.py:330: ConvergenceWarning: The max_iter was reached which means the coef_ did not converge\n",
            "  \"the coef_ did not converge\", ConvergenceWarning)\n",
            "/usr/local/lib/python3.7/dist-packages/sklearn/linear_model/_sag.py:330: ConvergenceWarning: The max_iter was reached which means the coef_ did not converge\n",
            "  \"the coef_ did not converge\", ConvergenceWarning)\n",
            "/usr/local/lib/python3.7/dist-packages/sklearn/linear_model/_sag.py:330: ConvergenceWarning: The max_iter was reached which means the coef_ did not converge\n",
            "  \"the coef_ did not converge\", ConvergenceWarning)\n",
            "/usr/local/lib/python3.7/dist-packages/sklearn/linear_model/_sag.py:330: ConvergenceWarning: The max_iter was reached which means the coef_ did not converge\n",
            "  \"the coef_ did not converge\", ConvergenceWarning)\n",
            "/usr/local/lib/python3.7/dist-packages/sklearn/linear_model/_sag.py:330: ConvergenceWarning: The max_iter was reached which means the coef_ did not converge\n",
            "  \"the coef_ did not converge\", ConvergenceWarning)\n",
            "/usr/local/lib/python3.7/dist-packages/sklearn/linear_model/_sag.py:330: ConvergenceWarning: The max_iter was reached which means the coef_ did not converge\n",
            "  \"the coef_ did not converge\", ConvergenceWarning)\n",
            "/usr/local/lib/python3.7/dist-packages/sklearn/linear_model/_sag.py:330: ConvergenceWarning: The max_iter was reached which means the coef_ did not converge\n",
            "  \"the coef_ did not converge\", ConvergenceWarning)\n",
            "/usr/local/lib/python3.7/dist-packages/sklearn/linear_model/_sag.py:330: ConvergenceWarning: The max_iter was reached which means the coef_ did not converge\n",
            "  \"the coef_ did not converge\", ConvergenceWarning)\n",
            "/usr/local/lib/python3.7/dist-packages/sklearn/linear_model/_sag.py:330: ConvergenceWarning: The max_iter was reached which means the coef_ did not converge\n",
            "  \"the coef_ did not converge\", ConvergenceWarning)\n",
            "/usr/local/lib/python3.7/dist-packages/sklearn/linear_model/_sag.py:330: ConvergenceWarning: The max_iter was reached which means the coef_ did not converge\n",
            "  \"the coef_ did not converge\", ConvergenceWarning)\n",
            "/usr/local/lib/python3.7/dist-packages/sklearn/linear_model/_sag.py:330: ConvergenceWarning: The max_iter was reached which means the coef_ did not converge\n",
            "  \"the coef_ did not converge\", ConvergenceWarning)\n",
            "/usr/local/lib/python3.7/dist-packages/sklearn/linear_model/_sag.py:330: ConvergenceWarning: The max_iter was reached which means the coef_ did not converge\n",
            "  \"the coef_ did not converge\", ConvergenceWarning)\n",
            "/usr/local/lib/python3.7/dist-packages/sklearn/linear_model/_sag.py:330: ConvergenceWarning: The max_iter was reached which means the coef_ did not converge\n",
            "  \"the coef_ did not converge\", ConvergenceWarning)\n",
            "/usr/local/lib/python3.7/dist-packages/sklearn/linear_model/_sag.py:330: ConvergenceWarning: The max_iter was reached which means the coef_ did not converge\n",
            "  \"the coef_ did not converge\", ConvergenceWarning)\n",
            "/usr/local/lib/python3.7/dist-packages/sklearn/linear_model/_sag.py:330: ConvergenceWarning: The max_iter was reached which means the coef_ did not converge\n",
            "  \"the coef_ did not converge\", ConvergenceWarning)\n",
            "/usr/local/lib/python3.7/dist-packages/sklearn/linear_model/_sag.py:330: ConvergenceWarning: The max_iter was reached which means the coef_ did not converge\n",
            "  \"the coef_ did not converge\", ConvergenceWarning)\n",
            "/usr/local/lib/python3.7/dist-packages/sklearn/linear_model/_sag.py:330: ConvergenceWarning: The max_iter was reached which means the coef_ did not converge\n",
            "  \"the coef_ did not converge\", ConvergenceWarning)\n",
            "/usr/local/lib/python3.7/dist-packages/sklearn/linear_model/_sag.py:330: ConvergenceWarning: The max_iter was reached which means the coef_ did not converge\n",
            "  \"the coef_ did not converge\", ConvergenceWarning)\n",
            "/usr/local/lib/python3.7/dist-packages/sklearn/linear_model/_sag.py:330: ConvergenceWarning: The max_iter was reached which means the coef_ did not converge\n",
            "  \"the coef_ did not converge\", ConvergenceWarning)\n",
            "/usr/local/lib/python3.7/dist-packages/sklearn/linear_model/_sag.py:330: ConvergenceWarning: The max_iter was reached which means the coef_ did not converge\n",
            "  \"the coef_ did not converge\", ConvergenceWarning)\n",
            "/usr/local/lib/python3.7/dist-packages/sklearn/linear_model/_sag.py:330: ConvergenceWarning: The max_iter was reached which means the coef_ did not converge\n",
            "  \"the coef_ did not converge\", ConvergenceWarning)\n",
            "/usr/local/lib/python3.7/dist-packages/sklearn/linear_model/_sag.py:330: ConvergenceWarning: The max_iter was reached which means the coef_ did not converge\n",
            "  \"the coef_ did not converge\", ConvergenceWarning)\n",
            "/usr/local/lib/python3.7/dist-packages/sklearn/linear_model/_sag.py:330: ConvergenceWarning: The max_iter was reached which means the coef_ did not converge\n",
            "  \"the coef_ did not converge\", ConvergenceWarning)\n",
            "/usr/local/lib/python3.7/dist-packages/sklearn/linear_model/_sag.py:330: ConvergenceWarning: The max_iter was reached which means the coef_ did not converge\n",
            "  \"the coef_ did not converge\", ConvergenceWarning)\n",
            "/usr/local/lib/python3.7/dist-packages/sklearn/linear_model/_sag.py:330: ConvergenceWarning: The max_iter was reached which means the coef_ did not converge\n",
            "  \"the coef_ did not converge\", ConvergenceWarning)\n",
            "/usr/local/lib/python3.7/dist-packages/sklearn/linear_model/_sag.py:330: ConvergenceWarning: The max_iter was reached which means the coef_ did not converge\n",
            "  \"the coef_ did not converge\", ConvergenceWarning)\n",
            "/usr/local/lib/python3.7/dist-packages/sklearn/linear_model/_sag.py:330: ConvergenceWarning: The max_iter was reached which means the coef_ did not converge\n",
            "  \"the coef_ did not converge\", ConvergenceWarning)\n",
            "/usr/local/lib/python3.7/dist-packages/sklearn/linear_model/_sag.py:330: ConvergenceWarning: The max_iter was reached which means the coef_ did not converge\n",
            "  \"the coef_ did not converge\", ConvergenceWarning)\n",
            "/usr/local/lib/python3.7/dist-packages/sklearn/linear_model/_sag.py:330: ConvergenceWarning: The max_iter was reached which means the coef_ did not converge\n",
            "  \"the coef_ did not converge\", ConvergenceWarning)\n",
            "/usr/local/lib/python3.7/dist-packages/sklearn/linear_model/_sag.py:330: ConvergenceWarning: The max_iter was reached which means the coef_ did not converge\n",
            "  \"the coef_ did not converge\", ConvergenceWarning)\n",
            "/usr/local/lib/python3.7/dist-packages/sklearn/linear_model/_sag.py:330: ConvergenceWarning: The max_iter was reached which means the coef_ did not converge\n",
            "  \"the coef_ did not converge\", ConvergenceWarning)\n",
            "/usr/local/lib/python3.7/dist-packages/sklearn/linear_model/_sag.py:330: ConvergenceWarning: The max_iter was reached which means the coef_ did not converge\n",
            "  \"the coef_ did not converge\", ConvergenceWarning)\n",
            "/usr/local/lib/python3.7/dist-packages/sklearn/linear_model/_sag.py:330: ConvergenceWarning: The max_iter was reached which means the coef_ did not converge\n",
            "  \"the coef_ did not converge\", ConvergenceWarning)\n",
            "/usr/local/lib/python3.7/dist-packages/sklearn/linear_model/_sag.py:330: ConvergenceWarning: The max_iter was reached which means the coef_ did not converge\n",
            "  \"the coef_ did not converge\", ConvergenceWarning)\n",
            "/usr/local/lib/python3.7/dist-packages/sklearn/linear_model/_sag.py:330: ConvergenceWarning: The max_iter was reached which means the coef_ did not converge\n",
            "  \"the coef_ did not converge\", ConvergenceWarning)\n",
            "/usr/local/lib/python3.7/dist-packages/sklearn/linear_model/_sag.py:330: ConvergenceWarning: The max_iter was reached which means the coef_ did not converge\n",
            "  \"the coef_ did not converge\", ConvergenceWarning)\n",
            "/usr/local/lib/python3.7/dist-packages/sklearn/linear_model/_sag.py:330: ConvergenceWarning: The max_iter was reached which means the coef_ did not converge\n",
            "  \"the coef_ did not converge\", ConvergenceWarning)\n",
            "/usr/local/lib/python3.7/dist-packages/sklearn/linear_model/_sag.py:330: ConvergenceWarning: The max_iter was reached which means the coef_ did not converge\n",
            "  \"the coef_ did not converge\", ConvergenceWarning)\n",
            "/usr/local/lib/python3.7/dist-packages/sklearn/linear_model/_sag.py:330: ConvergenceWarning: The max_iter was reached which means the coef_ did not converge\n",
            "  \"the coef_ did not converge\", ConvergenceWarning)\n",
            "/usr/local/lib/python3.7/dist-packages/sklearn/linear_model/_sag.py:330: ConvergenceWarning: The max_iter was reached which means the coef_ did not converge\n",
            "  \"the coef_ did not converge\", ConvergenceWarning)\n",
            "/usr/local/lib/python3.7/dist-packages/sklearn/linear_model/_sag.py:330: ConvergenceWarning: The max_iter was reached which means the coef_ did not converge\n",
            "  \"the coef_ did not converge\", ConvergenceWarning)\n",
            "/usr/local/lib/python3.7/dist-packages/sklearn/linear_model/_sag.py:330: ConvergenceWarning: The max_iter was reached which means the coef_ did not converge\n",
            "  \"the coef_ did not converge\", ConvergenceWarning)\n",
            "/usr/local/lib/python3.7/dist-packages/sklearn/linear_model/_sag.py:330: ConvergenceWarning: The max_iter was reached which means the coef_ did not converge\n",
            "  \"the coef_ did not converge\", ConvergenceWarning)\n"
          ],
          "name": "stderr"
        }
      ]
    },
    {
      "cell_type": "code",
      "metadata": {
        "colab": {
          "base_uri": "https://localhost:8080/"
        },
        "id": "NgkibKGrlBUl",
        "outputId": "e3fc4f28-d586-4d9e-e0d4-3b680ba024ff"
      },
      "source": [
        "#I parametri per cui ho ottenuto i risultati migliori\n",
        "print('Best parameters:', gs_log.best_params_)  \n",
        "\n",
        "#stampa dei punteggi\n",
        "acc_train = gs_log.score(X_train, y_train)\n",
        "acc_val = gs_log.score(X_val, y_val)\n",
        "\n",
        "print(f'Accuracy on train {acc_train}')\n",
        "print(f'Accuracy on val {acc_val}')"
      ],
      "execution_count": 74,
      "outputs": [
        {
          "output_type": "stream",
          "text": [
            "Best parameters: {'lr__C': 0.1, 'lr__l1_ratio': 0.2, 'lr__penalty': 'elasticnet'}\n",
            "Accuracy on train 0.7385714285714285\n",
            "Accuracy on val 0.7391111111111112\n"
          ],
          "name": "stdout"
        }
      ]
    },
    {
      "cell_type": "code",
      "metadata": {
        "colab": {
          "base_uri": "https://localhost:8080/",
          "height": 111
        },
        "id": "MJcpInVj1oyb",
        "outputId": "d6430d6f-1c4f-4f93-a84d-7291777b00d6"
      },
      "source": [
        "#matrice di confusione\n",
        "y_pred = gs_log.predict(X_val)\n",
        "cm = confusion_matrix(y_val, y_pred)\n",
        "pd.DataFrame(cm, index=gs_log.best_estimator_.classes_, columns=gs_log.best_estimator_.classes_)"
      ],
      "execution_count": 75,
      "outputs": [
        {
          "output_type": "execute_result",
          "data": {
            "text/html": [
              "<div>\n",
              "<style scoped>\n",
              "    .dataframe tbody tr th:only-of-type {\n",
              "        vertical-align: middle;\n",
              "    }\n",
              "\n",
              "    .dataframe tbody tr th {\n",
              "        vertical-align: top;\n",
              "    }\n",
              "\n",
              "    .dataframe thead th {\n",
              "        text-align: right;\n",
              "    }\n",
              "</style>\n",
              "<table border=\"1\" class=\"dataframe\">\n",
              "  <thead>\n",
              "    <tr style=\"text-align: right;\">\n",
              "      <th></th>\n",
              "      <th>0</th>\n",
              "      <th>1</th>\n",
              "    </tr>\n",
              "  </thead>\n",
              "  <tbody>\n",
              "    <tr>\n",
              "      <th>0</th>\n",
              "      <td>1682</td>\n",
              "      <td>568</td>\n",
              "    </tr>\n",
              "    <tr>\n",
              "      <th>1</th>\n",
              "      <td>606</td>\n",
              "      <td>1644</td>\n",
              "    </tr>\n",
              "  </tbody>\n",
              "</table>\n",
              "</div>"
            ],
            "text/plain": [
              "      0     1\n",
              "0  1682   568\n",
              "1   606  1644"
            ]
          },
          "metadata": {
            "tags": []
          },
          "execution_count": 75
        }
      ]
    },
    {
      "cell_type": "code",
      "metadata": {
        "colab": {
          "base_uri": "https://localhost:8080/"
        },
        "id": "9oLoDpGD3iPk",
        "outputId": "a9848e20-2001-45ca-b063-468a03fc3f2a"
      },
      "source": [
        "precision = precision_score(y_val, y_pred, pos_label=0)\n",
        "recall = recall_score(y_val, y_pred, pos_label=0)\n",
        "f1 = f1_score(y_val, y_pred, average=\"macro\")\n",
        "\n",
        "print(f\"precision: {precision}, recall: {recall}, f1-score: {f1}\")"
      ],
      "execution_count": 76,
      "outputs": [
        {
          "output_type": "stream",
          "text": [
            "precision: 0.7351398601398601, recall: 0.7475555555555555, f1-score: 0.7390925061520437\n"
          ],
          "name": "stdout"
        }
      ]
    },
    {
      "cell_type": "code",
      "metadata": {
        "id": "kIjsVejoqoWF"
      },
      "source": [
        "models[\"logreg\"] = [acc_train, acc_val, precision, recall, f1]"
      ],
      "execution_count": 77,
      "outputs": []
    },
    {
      "cell_type": "markdown",
      "metadata": {
        "id": "cjjRBFDd5jFu"
      },
      "source": [
        "##SVM: Support Vector Machines\n"
      ]
    },
    {
      "cell_type": "code",
      "metadata": {
        "id": "K40yQBRP5ncV"
      },
      "source": [
        "model = Pipeline([\n",
        "    (\"scaler\", StandardScaler()),\n",
        "    (\"svc\", SVC(random_state=42))\n",
        "])\n",
        "\n",
        "grid = {\n",
        "  \"svc__kernel\": [\"linear\", \"rbf\"],\n",
        "  \"svc__C\": np.logspace(1, 3, 3)\n",
        "}"
      ],
      "execution_count": 78,
      "outputs": []
    },
    {
      "cell_type": "code",
      "metadata": {
        "colab": {
          "base_uri": "https://localhost:8080/"
        },
        "id": "YDcQk9dx5rjI",
        "outputId": "5483bc67-bc2d-464c-e513-2b20e31fd6f6"
      },
      "source": [
        "#training\n",
        "gs_svm = GridSearchCV(model, grid, cv=skf)\n",
        "gs_svm.fit(X_train, y_train)"
      ],
      "execution_count": 79,
      "outputs": [
        {
          "output_type": "execute_result",
          "data": {
            "text/plain": [
              "GridSearchCV(cv=StratifiedKFold(n_splits=5, random_state=42, shuffle=True),\n",
              "             error_score=nan,\n",
              "             estimator=Pipeline(memory=None,\n",
              "                                steps=[('scaler',\n",
              "                                        StandardScaler(copy=True,\n",
              "                                                       with_mean=True,\n",
              "                                                       with_std=True)),\n",
              "                                       ('svc',\n",
              "                                        SVC(C=1.0, break_ties=False,\n",
              "                                            cache_size=200, class_weight=None,\n",
              "                                            coef0=0.0,\n",
              "                                            decision_function_shape='ovr',\n",
              "                                            degree=3, gamma='scale',\n",
              "                                            kernel='rbf', max_iter=-1,\n",
              "                                            probability=False, random_state=42,\n",
              "                                            shrinking=True, tol=0.001,\n",
              "                                            verbose=False))],\n",
              "                                verbose=False),\n",
              "             iid='deprecated', n_jobs=None,\n",
              "             param_grid={'svc__C': array([  10.,  100., 1000.]),\n",
              "                         'svc__kernel': ['linear', 'rbf']},\n",
              "             pre_dispatch='2*n_jobs', refit=True, return_train_score=False,\n",
              "             scoring=None, verbose=0)"
            ]
          },
          "metadata": {
            "tags": []
          },
          "execution_count": 79
        }
      ]
    },
    {
      "cell_type": "code",
      "metadata": {
        "id": "8nrXhF8FmpmK",
        "colab": {
          "base_uri": "https://localhost:8080/"
        },
        "outputId": "f942998f-19e9-4a7d-980e-34dfed41088c"
      },
      "source": [
        "#I parametri per cui ho ottenuto i risultati migliori\n",
        "print('Best parameters:', gs_svm.best_params_)  \n",
        "\n",
        "#stampa dei punteggi\n",
        "acc_train = gs_svm.score(X_train, y_train) \n",
        "acc_val = gs_svm.score(X_val, y_val)\n",
        "print(f'Accuracy on train {acc_train}')\n",
        "print(f'Accuracy on val {acc_val}')"
      ],
      "execution_count": 80,
      "outputs": [
        {
          "output_type": "stream",
          "text": [
            "Best parameters: {'svc__C': 10.0, 'svc__kernel': 'rbf'}\n",
            "Accuracy on train 0.821047619047619\n",
            "Accuracy on val 0.7795555555555556\n"
          ],
          "name": "stdout"
        }
      ]
    },
    {
      "cell_type": "code",
      "metadata": {
        "id": "5hTVYU36mxcW",
        "colab": {
          "base_uri": "https://localhost:8080/",
          "height": 111
        },
        "outputId": "61529537-5c1d-4ecc-ee76-ad91ba01456c"
      },
      "source": [
        "#matrice di confusione\n",
        "y_pred = gs_svm.predict(X_val)\n",
        "cm = confusion_matrix(y_val, y_pred)\n",
        "pd.DataFrame(cm, index=gs_svm.best_estimator_.classes_, columns=gs_svm.best_estimator_.classes_)"
      ],
      "execution_count": 81,
      "outputs": [
        {
          "output_type": "execute_result",
          "data": {
            "text/html": [
              "<div>\n",
              "<style scoped>\n",
              "    .dataframe tbody tr th:only-of-type {\n",
              "        vertical-align: middle;\n",
              "    }\n",
              "\n",
              "    .dataframe tbody tr th {\n",
              "        vertical-align: top;\n",
              "    }\n",
              "\n",
              "    .dataframe thead th {\n",
              "        text-align: right;\n",
              "    }\n",
              "</style>\n",
              "<table border=\"1\" class=\"dataframe\">\n",
              "  <thead>\n",
              "    <tr style=\"text-align: right;\">\n",
              "      <th></th>\n",
              "      <th>0</th>\n",
              "      <th>1</th>\n",
              "    </tr>\n",
              "  </thead>\n",
              "  <tbody>\n",
              "    <tr>\n",
              "      <th>0</th>\n",
              "      <td>1865</td>\n",
              "      <td>385</td>\n",
              "    </tr>\n",
              "    <tr>\n",
              "      <th>1</th>\n",
              "      <td>607</td>\n",
              "      <td>1643</td>\n",
              "    </tr>\n",
              "  </tbody>\n",
              "</table>\n",
              "</div>"
            ],
            "text/plain": [
              "      0     1\n",
              "0  1865   385\n",
              "1   607  1643"
            ]
          },
          "metadata": {
            "tags": []
          },
          "execution_count": 81
        }
      ]
    },
    {
      "cell_type": "code",
      "metadata": {
        "id": "9RiWxUeLm-jA",
        "colab": {
          "base_uri": "https://localhost:8080/"
        },
        "outputId": "d458b1eb-f45f-4566-e3bd-a7ea72b7c05e"
      },
      "source": [
        "precision = precision_score(y_val, y_pred, pos_label=0)\n",
        "recall = recall_score(y_val, y_pred, pos_label=0)\n",
        "f1 = f1_score(y_val, y_pred, average=\"macro\")\n",
        "\n",
        "print(f\"precision: {precision}, recall: {recall}, f1-score: {f1}\")"
      ],
      "execution_count": 82,
      "outputs": [
        {
          "output_type": "stream",
          "text": [
            "precision: 0.7544498381877023, recall: 0.8288888888888889, f1-score: 0.7790177338268605\n"
          ],
          "name": "stdout"
        }
      ]
    },
    {
      "cell_type": "code",
      "metadata": {
        "id": "lrnZKNahsE_Q"
      },
      "source": [
        "models[\"svm\"] = [acc_train, acc_val, precision, recall, f1]"
      ],
      "execution_count": 83,
      "outputs": []
    },
    {
      "cell_type": "markdown",
      "metadata": {
        "id": "WQtb2TJCD60W"
      },
      "source": [
        "##Decision Tree"
      ]
    },
    {
      "cell_type": "code",
      "metadata": {
        "id": "RWPYe_akJwJi"
      },
      "source": [
        "num_features = X_train.shape[1]"
      ],
      "execution_count": 84,
      "outputs": []
    },
    {
      "cell_type": "code",
      "metadata": {
        "id": "u5E1aYrOD9Ro"
      },
      "source": [
        "model = Pipeline([\n",
        "    (\"scaler\", StandardScaler()),\n",
        "    (\"tree\", DecisionTreeClassifier(random_state=42))\n",
        "])\n",
        "\n",
        "grid = {\n",
        "    \"scaler\": [None, StandardScaler()],\n",
        "    \"tree__max_depth\": [5, 10, None],\n",
        "    \"tree__min_samples_split\": [2, 50, 100]\n",
        "}"
      ],
      "execution_count": 85,
      "outputs": []
    },
    {
      "cell_type": "code",
      "metadata": {
        "id": "e_F-UAniEIvT",
        "colab": {
          "base_uri": "https://localhost:8080/"
        },
        "outputId": "e0b2d886-3869-43c6-c55f-47532f7d44e8"
      },
      "source": [
        "#training\n",
        "gs_dtree = GridSearchCV(model, grid, cv=skf)\n",
        "gs_dtree.fit(X_train, y_train)"
      ],
      "execution_count": 86,
      "outputs": [
        {
          "output_type": "execute_result",
          "data": {
            "text/plain": [
              "GridSearchCV(cv=StratifiedKFold(n_splits=5, random_state=42, shuffle=True),\n",
              "             error_score=nan,\n",
              "             estimator=Pipeline(memory=None,\n",
              "                                steps=[('scaler',\n",
              "                                        StandardScaler(copy=True,\n",
              "                                                       with_mean=True,\n",
              "                                                       with_std=True)),\n",
              "                                       ('tree',\n",
              "                                        DecisionTreeClassifier(ccp_alpha=0.0,\n",
              "                                                               class_weight=None,\n",
              "                                                               criterion='gini',\n",
              "                                                               max_depth=None,\n",
              "                                                               max_features=None,\n",
              "                                                               max_leaf_nodes=None,\n",
              "                                                               min_impurity_decrease=0....\n",
              "                                                               min_weight_fraction_leaf=0.0,\n",
              "                                                               presort='deprecated',\n",
              "                                                               random_state=42,\n",
              "                                                               splitter='best'))],\n",
              "                                verbose=False),\n",
              "             iid='deprecated', n_jobs=None,\n",
              "             param_grid={'scaler': [None,\n",
              "                                    StandardScaler(copy=True, with_mean=True,\n",
              "                                                   with_std=True)],\n",
              "                         'tree__max_depth': [5, 10, None],\n",
              "                         'tree__min_samples_split': [2, 50, 100]},\n",
              "             pre_dispatch='2*n_jobs', refit=True, return_train_score=False,\n",
              "             scoring=None, verbose=0)"
            ]
          },
          "metadata": {
            "tags": []
          },
          "execution_count": 86
        }
      ]
    },
    {
      "cell_type": "code",
      "metadata": {
        "id": "3PxDboxYEIvU",
        "colab": {
          "base_uri": "https://localhost:8080/"
        },
        "outputId": "6829792f-cfe9-4212-ee2f-1ae941231338"
      },
      "source": [
        "#I parametri per cui ho ottenuto i risultati migliori\n",
        "print('Best parameters:', gs_dtree.best_params_)  \n",
        "\n",
        "#stampa dei punteggi\n",
        "acc_train = gs_dtree.score(X_train, y_train) \n",
        "acc_val = gs_dtree.score(X_val, y_val)\n",
        "print(f'Accuracy on train {acc_train}')\n",
        "print(f'Accuracy on val {acc_val}')"
      ],
      "execution_count": 87,
      "outputs": [
        {
          "output_type": "stream",
          "text": [
            "Best parameters: {'scaler': StandardScaler(copy=True, with_mean=True, with_std=True), 'tree__max_depth': None, 'tree__min_samples_split': 50}\n",
            "Accuracy on train 0.8394285714285714\n",
            "Accuracy on val 0.7724444444444445\n"
          ],
          "name": "stdout"
        }
      ]
    },
    {
      "cell_type": "code",
      "metadata": {
        "id": "4rflYktNEIvU",
        "colab": {
          "base_uri": "https://localhost:8080/",
          "height": 111
        },
        "outputId": "e6b3c7cb-9436-4704-8cf2-a09b7d94c83b"
      },
      "source": [
        "#matrice di confusione\n",
        "y_pred = gs_dtree.predict(X_val)\n",
        "cm = confusion_matrix(y_val, y_pred)\n",
        "pd.DataFrame(cm, index=gs_dtree.best_estimator_.classes_, columns=gs_dtree.best_estimator_.classes_)"
      ],
      "execution_count": 88,
      "outputs": [
        {
          "output_type": "execute_result",
          "data": {
            "text/html": [
              "<div>\n",
              "<style scoped>\n",
              "    .dataframe tbody tr th:only-of-type {\n",
              "        vertical-align: middle;\n",
              "    }\n",
              "\n",
              "    .dataframe tbody tr th {\n",
              "        vertical-align: top;\n",
              "    }\n",
              "\n",
              "    .dataframe thead th {\n",
              "        text-align: right;\n",
              "    }\n",
              "</style>\n",
              "<table border=\"1\" class=\"dataframe\">\n",
              "  <thead>\n",
              "    <tr style=\"text-align: right;\">\n",
              "      <th></th>\n",
              "      <th>0</th>\n",
              "      <th>1</th>\n",
              "    </tr>\n",
              "  </thead>\n",
              "  <tbody>\n",
              "    <tr>\n",
              "      <th>0</th>\n",
              "      <td>1800</td>\n",
              "      <td>450</td>\n",
              "    </tr>\n",
              "    <tr>\n",
              "      <th>1</th>\n",
              "      <td>574</td>\n",
              "      <td>1676</td>\n",
              "    </tr>\n",
              "  </tbody>\n",
              "</table>\n",
              "</div>"
            ],
            "text/plain": [
              "      0     1\n",
              "0  1800   450\n",
              "1   574  1676"
            ]
          },
          "metadata": {
            "tags": []
          },
          "execution_count": 88
        }
      ]
    },
    {
      "cell_type": "code",
      "metadata": {
        "id": "MLTMpsQ6EIvU",
        "colab": {
          "base_uri": "https://localhost:8080/"
        },
        "outputId": "327b7282-2e90-4d63-8a4d-9a66098a498e"
      },
      "source": [
        "precision = precision_score(y_val, y_pred, pos_label=0)\n",
        "recall = recall_score(y_val, y_pred, pos_label=0)\n",
        "f1 = f1_score(y_val, y_pred, average=\"macro\")\n",
        "\n",
        "print(f\"precision: {precision}, recall: {recall}, f1-score: {f1}\")"
      ],
      "execution_count": 89,
      "outputs": [
        {
          "output_type": "stream",
          "text": [
            "precision: 0.7582139848357203, recall: 0.8, f1-score: 0.7722715282478192\n"
          ],
          "name": "stdout"
        }
      ]
    },
    {
      "cell_type": "code",
      "metadata": {
        "id": "5NGmLFlosvEa"
      },
      "source": [
        "models[\"decision_tree\"] = [acc_train, acc_val, precision, recall, f1]"
      ],
      "execution_count": 90,
      "outputs": []
    },
    {
      "cell_type": "markdown",
      "metadata": {
        "id": "cf8ThttvJk0J"
      },
      "source": [
        "##XGBoost"
      ]
    },
    {
      "cell_type": "code",
      "metadata": {
        "id": "ew2zS8rSJkG6"
      },
      "source": [
        "model = Pipeline([\n",
        "    ('std', StandardScaler()),\n",
        "    ('xgb', XGBClassifier(nthread=8, objective='binary:logistic'))\n",
        "])\n",
        "\n",
        "grid = {\n",
        "    'xgb__eta': [0.002, 0.1, 0.5],\n",
        "    'xgb__max_depth': [6],\n",
        "    'xgb__n_estimators': [150, 300],\n",
        "    'xgb__alpha': [0.0001, 0.001]\n",
        "}"
      ],
      "execution_count": 91,
      "outputs": []
    },
    {
      "cell_type": "code",
      "metadata": {
        "colab": {
          "base_uri": "https://localhost:8080/"
        },
        "id": "qbaZ2iPMS-dp",
        "outputId": "9eb43f61-e131-4a06-b7f7-626966e0fe52"
      },
      "source": [
        "#training\n",
        "gsXGB = GridSearchCV(model, grid, cv=skf)\n",
        "gsXGB.fit(X_train, y_train)"
      ],
      "execution_count": 92,
      "outputs": [
        {
          "output_type": "execute_result",
          "data": {
            "text/plain": [
              "GridSearchCV(cv=StratifiedKFold(n_splits=5, random_state=42, shuffle=True),\n",
              "             error_score=nan,\n",
              "             estimator=Pipeline(memory=None,\n",
              "                                steps=[('std',\n",
              "                                        StandardScaler(copy=True,\n",
              "                                                       with_mean=True,\n",
              "                                                       with_std=True)),\n",
              "                                       ('xgb',\n",
              "                                        XGBClassifier(base_score=0.5,\n",
              "                                                      booster='gbtree',\n",
              "                                                      colsample_bylevel=1,\n",
              "                                                      colsample_bynode=1,\n",
              "                                                      colsample_bytree=1,\n",
              "                                                      gamma=0,\n",
              "                                                      learning_rate=0.1,\n",
              "                                                      max_delta_step=0,\n",
              "                                                      max_de...\n",
              "                                                      random_state=0,\n",
              "                                                      reg_alpha=0, reg_lambda=1,\n",
              "                                                      scale_pos_weight=1,\n",
              "                                                      seed=None, silent=None,\n",
              "                                                      subsample=1,\n",
              "                                                      verbosity=1))],\n",
              "                                verbose=False),\n",
              "             iid='deprecated', n_jobs=None,\n",
              "             param_grid={'xgb__alpha': [0.0001, 0.001],\n",
              "                         'xgb__eta': [0.002, 0.1, 0.5], 'xgb__max_depth': [6],\n",
              "                         'xgb__n_estimators': [150, 300]},\n",
              "             pre_dispatch='2*n_jobs', refit=True, return_train_score=False,\n",
              "             scoring=None, verbose=0)"
            ]
          },
          "metadata": {
            "tags": []
          },
          "execution_count": 92
        }
      ]
    },
    {
      "cell_type": "code",
      "metadata": {
        "id": "_avrHi7co226",
        "colab": {
          "base_uri": "https://localhost:8080/"
        },
        "outputId": "b0bb59ef-1d9a-41d2-e76d-a8d3abc847f3"
      },
      "source": [
        "#I parametri per cui ho ottenuto i risultati migliori\n",
        "print('Best parameters:', gsXGB.best_params_)  \n",
        "\n",
        "#stampa dei punteggi\n",
        "acc_train = gsXGB.score(X_train, y_train)\n",
        "acc_val = gsXGB.score(X_val, y_val)\n",
        "print(f'Accuracy on train {acc_train}')\n",
        "print(f'Accuracy on val {acc_val}')"
      ],
      "execution_count": 93,
      "outputs": [
        {
          "output_type": "stream",
          "text": [
            "Best parameters: {'xgb__alpha': 0.0001, 'xgb__eta': 0.002, 'xgb__max_depth': 6, 'xgb__n_estimators': 150}\n",
            "Accuracy on train 0.8616190476190476\n",
            "Accuracy on val 0.8086666666666666\n"
          ],
          "name": "stdout"
        }
      ]
    },
    {
      "cell_type": "code",
      "metadata": {
        "id": "XQFd1QzEvuWN",
        "colab": {
          "base_uri": "https://localhost:8080/",
          "height": 111
        },
        "outputId": "596e8194-07b1-4004-d588-f6091aaae837"
      },
      "source": [
        "#matrice di confusione\n",
        "y_pred = gsXGB.predict(X_val)\n",
        "cm = confusion_matrix(y_val, y_pred)\n",
        "pd.DataFrame(cm, index=gsXGB.best_estimator_.classes_, columns=gsXGB.best_estimator_.classes_)"
      ],
      "execution_count": 94,
      "outputs": [
        {
          "output_type": "execute_result",
          "data": {
            "text/html": [
              "<div>\n",
              "<style scoped>\n",
              "    .dataframe tbody tr th:only-of-type {\n",
              "        vertical-align: middle;\n",
              "    }\n",
              "\n",
              "    .dataframe tbody tr th {\n",
              "        vertical-align: top;\n",
              "    }\n",
              "\n",
              "    .dataframe thead th {\n",
              "        text-align: right;\n",
              "    }\n",
              "</style>\n",
              "<table border=\"1\" class=\"dataframe\">\n",
              "  <thead>\n",
              "    <tr style=\"text-align: right;\">\n",
              "      <th></th>\n",
              "      <th>0</th>\n",
              "      <th>1</th>\n",
              "    </tr>\n",
              "  </thead>\n",
              "  <tbody>\n",
              "    <tr>\n",
              "      <th>0</th>\n",
              "      <td>1915</td>\n",
              "      <td>335</td>\n",
              "    </tr>\n",
              "    <tr>\n",
              "      <th>1</th>\n",
              "      <td>526</td>\n",
              "      <td>1724</td>\n",
              "    </tr>\n",
              "  </tbody>\n",
              "</table>\n",
              "</div>"
            ],
            "text/plain": [
              "      0     1\n",
              "0  1915   335\n",
              "1   526  1724"
            ]
          },
          "metadata": {
            "tags": []
          },
          "execution_count": 94
        }
      ]
    },
    {
      "cell_type": "code",
      "metadata": {
        "id": "wK6VOELIzGVK",
        "colab": {
          "base_uri": "https://localhost:8080/"
        },
        "outputId": "c3a7325e-ea4d-448f-ca1f-a39353a275a9"
      },
      "source": [
        "precision = precision_score(y_val, y_pred, pos_label=0)\n",
        "recall = recall_score(y_val, y_pred, pos_label=0)\n",
        "f1 = f1_score(y_val, y_pred, average=\"macro\")\n",
        "\n",
        "print(f\"precision: {precision}, recall: {recall}, f1-score: {f1}\")"
      ],
      "execution_count": 95,
      "outputs": [
        {
          "output_type": "stream",
          "text": [
            "precision: 0.7845145432199918, recall: 0.8511111111111112, f1-score: 0.8083213516656848\n"
          ],
          "name": "stdout"
        }
      ]
    },
    {
      "cell_type": "code",
      "metadata": {
        "id": "iAsx15jotFuv"
      },
      "source": [
        "models[\"xgboost\"] = [acc_train, acc_val, precision, recall, f1]"
      ],
      "execution_count": 96,
      "outputs": []
    },
    {
      "cell_type": "markdown",
      "metadata": {
        "id": "8FwSXV0Uiuz3"
      },
      "source": [
        "#Confronto dei modelli"
      ]
    },
    {
      "cell_type": "code",
      "metadata": {
        "colab": {
          "base_uri": "https://localhost:8080/"
        },
        "id": "4MBHu87-tJsS",
        "outputId": "abb50a04-e46d-4f87-a7bd-c2a291ad9c83"
      },
      "source": [
        "for m in models:\n",
        "  print(f\"{m}\")\n",
        "  print(f\"accuracy on train: {models[m][0]}\\naccuracy on validation: {models[m][1]}\\n\")\n",
        "  print(f\"precision: {models[m][2]} recall: {models[m][3]}, f1-score: {models[m][4]}\\n\")"
      ],
      "execution_count": 97,
      "outputs": [
        {
          "output_type": "stream",
          "text": [
            "perceptron\n",
            "accuracy on train: 0.596\n",
            "accuracy on validation: 0.6024444444444444\n",
            "\n",
            "precision: 0.6035955056179775 recall: 0.5968888888888889, f1-score: 0.6024321738325258\n",
            "\n",
            "logreg\n",
            "accuracy on train: 0.7385714285714285\n",
            "accuracy on validation: 0.7391111111111112\n",
            "\n",
            "precision: 0.7351398601398601 recall: 0.7475555555555555, f1-score: 0.7390925061520437\n",
            "\n",
            "svm\n",
            "accuracy on train: 0.821047619047619\n",
            "accuracy on validation: 0.7795555555555556\n",
            "\n",
            "precision: 0.7544498381877023 recall: 0.8288888888888889, f1-score: 0.7790177338268605\n",
            "\n",
            "decision_tree\n",
            "accuracy on train: 0.8394285714285714\n",
            "accuracy on validation: 0.7724444444444445\n",
            "\n",
            "precision: 0.7582139848357203 recall: 0.8, f1-score: 0.7722715282478192\n",
            "\n",
            "xgboost\n",
            "accuracy on train: 0.8616190476190476\n",
            "accuracy on validation: 0.8086666666666666\n",
            "\n",
            "precision: 0.7845145432199918 recall: 0.8511111111111112, f1-score: 0.8083213516656848\n",
            "\n"
          ],
          "name": "stdout"
        }
      ]
    },
    {
      "cell_type": "markdown",
      "metadata": {
        "id": "Wk51k5zzzH2X"
      },
      "source": [
        "Osservando i valori di accuratezza possiamo affermare che il modello basato su Perceptron abbia dato i risultati peggiori.\n",
        "\n",
        "Inoltre notiamo che Decision, SVM e XGBoost presentano overfitting, quest'ultimo però presenta il più alto valore di f1-score.\n",
        "\n",
        "Per scegliere il modello migliore confronteremo quindi XGBoost e il modello di Regressione Logistica.\n",
        "\n",
        "\n",
        "\n"
      ]
    },
    {
      "cell_type": "code",
      "metadata": {
        "id": "cv9fBw11ma5a"
      },
      "source": [
        "def difference_between_two_models(error1, error2, confidence):\n",
        "    z_half_alfa = stats.norm.ppf(confidence)\n",
        "    variance = (((1 - error1) * error1) / len(y_val)) + (((1 - error2) * error2) / len(y_val))\n",
        "    d_minus = abs(error1 - error2) - z_half_alfa * (pow(variance, 0.5))\n",
        "    d_plus = abs(error1 - error2) + z_half_alfa * (pow(variance, 0.5))\n",
        "    print(\"Valore minimo: {}\\nValore massimo: {}\\n\".format(d_minus, d_plus))"
      ],
      "execution_count": 98,
      "outputs": []
    },
    {
      "cell_type": "code",
      "metadata": {
        "id": "Sczym--GiyQZ",
        "colab": {
          "base_uri": "https://localhost:8080/"
        },
        "outputId": "ca3cb92a-b41c-4c4f-e320-710670d79350"
      },
      "source": [
        "logreg_err = 1 - models[\"logreg\"][4]\n",
        "xgb_err = 1 - models[\"xgboost\"][4]\n",
        "\n",
        "difference_between_two_models(logreg_err, xgb_err, 0.95)"
      ],
      "execution_count": 99,
      "outputs": [
        {
          "output_type": "stream",
          "text": [
            "Valore minimo: 0.05476883014835071\n",
            "Valore massimo: 0.0836888608789314\n",
            "\n"
          ],
          "name": "stdout"
        }
      ]
    },
    {
      "cell_type": "markdown",
      "metadata": {
        "id": "XBvZI0FvCZnD"
      },
      "source": [
        "I modelli risultano diversi come già evidenziato dalle diverse accuratezze."
      ]
    },
    {
      "cell_type": "markdown",
      "metadata": {
        "id": "5p-v91sWGxEC"
      },
      "source": [
        "# Confronto con modello casuale"
      ]
    },
    {
      "cell_type": "code",
      "metadata": {
        "colab": {
          "base_uri": "https://localhost:8080/"
        },
        "id": "VKWQx57hHhu8",
        "outputId": "dde09fd7-902e-4e14-f9f6-2672a40ec8cd"
      },
      "source": [
        "model = DummyClassifier(strategy=\"uniform\", random_state=42)\n",
        "model.fit(X_train, y_train)\n",
        "model.score(X_val, y_val)\n",
        "print(f\"accuracy on train: {model.score(X_train, y_train)}\\naccuracy on validation: {model.score(X_val, y_val)}\\n\")"
      ],
      "execution_count": 104,
      "outputs": [
        {
          "output_type": "stream",
          "text": [
            "accuracy on train: 0.5\n",
            "accuracy on validation: 0.5033333333333333\n",
            "\n"
          ],
          "name": "stdout"
        }
      ]
    },
    {
      "cell_type": "code",
      "metadata": {
        "id": "t2Z3_ZimFLg2"
      },
      "source": [
        "y_pred = model.predict(X_val)\n",
        "f1 = f1_score(y_val, y_pred, average=\"macro\")\n",
        "dummy_err = 1 - f1"
      ],
      "execution_count": 105,
      "outputs": []
    },
    {
      "cell_type": "code",
      "metadata": {
        "colab": {
          "base_uri": "https://localhost:8080/"
        },
        "id": "ghefaJxpCvhV",
        "outputId": "4a96828e-7bc6-4771-f786-4b6f0b994068"
      },
      "source": [
        "#Differenza tra logistic regression e dummy\n",
        "difference_between_two_models(logreg_err, dummy_err, 0.95)"
      ],
      "execution_count": 106,
      "outputs": [
        {
          "output_type": "stream",
          "text": [
            "Valore minimo: 0.21944783739515442\n",
            "Valore massimo: 0.25208154540193833\n",
            "\n"
          ],
          "name": "stdout"
        }
      ]
    },
    {
      "cell_type": "code",
      "metadata": {
        "colab": {
          "base_uri": "https://localhost:8080/"
        },
        "id": "5cDim7WqGWaM",
        "outputId": "e4678f11-b3b9-42c3-a7ef-46c148d562a8"
      },
      "source": [
        "#Differenza tra XGBoost e dummy\n",
        "difference_between_two_models(xgb_err, dummy_err, 0.95)"
      ],
      "execution_count": 107,
      "outputs": [
        {
          "output_type": "stream",
          "text": [
            "Valore minimo: 0.2893904941757656\n",
            "Valore massimo: 0.32059657964860927\n",
            "\n"
          ],
          "name": "stdout"
        }
      ]
    },
    {
      "cell_type": "markdown",
      "metadata": {
        "id": "Nb5CbL1y6amB"
      },
      "source": [
        "Possiamo vedere dai valori di accuratezza che tutti i modelli che stiamo considerando risultano migliori del modello casuale.\n",
        "\n",
        "I modelli risultano molto differenti dal modello casuale e questo viene confermato dal confronto sull'intervallo di confidenza."
      ]
    },
    {
      "cell_type": "markdown",
      "metadata": {
        "id": "4jsWZkDQGfpg"
      },
      "source": [
        "#Conclusioni"
      ]
    },
    {
      "cell_type": "markdown",
      "metadata": {
        "id": "Q186Qg3YPK9X"
      },
      "source": [
        "É stato raggiunto l'obiettivo primario di ottenere un modello migliore di uno casuale.\n",
        "\n",
        "Purtroppo alcuni modelli, nonostante lo studio fatto sulle features e sui valori, risultano affetti da overfitting.\n",
        "\n",
        "Il modello che alla luce di queste considerazioni risulta il più affidabile è **Logistic Regression**. Questo purtroppo raggiunge un'accuratezza deò 73% e quindi non siamo riusciti a ottenere un modello di predizione affidabile che riesca,  partendo dai dati di cui l'hotel è a conoscenza dal momento della prenotazione, a predire in modo efficace se un cliente ritirerà la prenotazione oppure si presenterà."
      ]
    }
  ]
}